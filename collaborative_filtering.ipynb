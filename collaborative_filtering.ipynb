{
 "cells": [
  {
   "cell_type": "code",
   "execution_count": 20,
   "metadata": {},
   "outputs": [],
   "source": [
    "import os\n",
    "\n",
    "import pandas as pd\n",
    "\n",
    "from IPython.display import display, Markdown\n",
    "from recommender import RecommendationEngine\n",
    "from utils import *"
   ]
  },
  {
   "cell_type": "code",
   "execution_count": 21,
   "metadata": {},
   "outputs": [],
   "source": [
    "# Loading necessary csvs into Pandas\n",
    "data_folder = \"/Users/alex/Workspace/Datasets/OlistEcommercePublicDataset\"\n",
    "\n",
    "df_names = [\n",
    "    \"orders_df\",\n",
    "    \"reviews_df\",\n",
    "    \"products_df\",\n",
    "    \"order_items_df\",\n",
    "    \"customer_df\",\n",
    "    \"cat_name_translation\",\n",
    "]\n",
    "df_files = [\n",
    "    \"olist_orders_dataset.csv\",\n",
    "    \"olist_order_reviews_dataset.csv\",\n",
    "    \"olist_products_dataset.csv\",\n",
    "    \"olist_order_items_dataset.csv\",\n",
    "    \"olist_customers_dataset.csv\",\n",
    "    \"product_category_name_translation.csv\",\n",
    "]\n",
    "\n",
    "# Loading dataframes\n",
    "dataframes = preprocess_dataframes(read_dataframes(df_names, df_files, data_folder))\n",
    "\n",
    "# Filtering final dataframe by most active users and bought items\n",
    "final_df = filter_dataframe(\n",
    "    join_dataframes(dataframes), item_number=500, user_number=1000\n",
    ")\n",
    "\n",
    "# Loading translation dictionary [Portugues -> English]\n",
    "translate_dict = get_translation_dict(dataframes[\"cat_name_translation\"])\n",
    "\n",
    "# Initializing our custom recommendation engine\n",
    "recommendationengine = RecommendationEngine(\n",
    "    final_df, dataframes[\"products_df\"], dataframes[\"order_items_df\"], translate_dict\n",
    ")\n"
   ]
  },
  {
   "cell_type": "code",
   "execution_count": 24,
   "metadata": {},
   "outputs": [
    {
     "data": {
      "text/markdown": [
       "### Bought Items"
      ],
      "text/plain": [
       "<IPython.core.display.Markdown object>"
      ]
     },
     "metadata": {},
     "output_type": "display_data"
    },
    {
     "data": {
      "text/html": [
       "<div>\n",
       "<style scoped>\n",
       "    .dataframe tbody tr th:only-of-type {\n",
       "        vertical-align: middle;\n",
       "    }\n",
       "\n",
       "    .dataframe tbody tr th {\n",
       "        vertical-align: top;\n",
       "    }\n",
       "\n",
       "    .dataframe thead th {\n",
       "        text-align: right;\n",
       "    }\n",
       "</style>\n",
       "<table border=\"1\" class=\"dataframe\">\n",
       "  <thead>\n",
       "    <tr style=\"text-align: right;\">\n",
       "      <th></th>\n",
       "      <th>product_id</th>\n",
       "      <th>rating</th>\n",
       "      <th>product_category_name</th>\n",
       "      <th>price</th>\n",
       "    </tr>\n",
       "  </thead>\n",
       "  <tbody>\n",
       "    <tr>\n",
       "      <th>0</th>\n",
       "      <td>368c6c730842d78016ad823897a372db</td>\n",
       "      <td>5.0</td>\n",
       "      <td>garden_tools</td>\n",
       "      <td>49.9</td>\n",
       "    </tr>\n",
       "  </tbody>\n",
       "</table>\n",
       "</div>"
      ],
      "text/plain": [
       "                         product_id  rating product_category_name  price\n",
       "0  368c6c730842d78016ad823897a372db     5.0          garden_tools   49.9"
      ]
     },
     "metadata": {},
     "output_type": "display_data"
    },
    {
     "data": {
      "text/markdown": [
       "### Recommendation - Without clustering"
      ],
      "text/plain": [
       "<IPython.core.display.Markdown object>"
      ]
     },
     "metadata": {},
     "output_type": "display_data"
    },
    {
     "data": {
      "text/plain": [
       "(                         product_id      product_category_name     score  \\\n",
       " 0  349ce46a0e2e20054aa9d80c48af8816  construction_tools_lights  5.000000   \n",
       " 1  6a2909ac21d16b721e4795e7e8ff3e68             sports_leisure  4.998252   \n",
       " \n",
       "         price  \n",
       " 0  150.470238  \n",
       " 1   24.203103  ,\n",
       " '0064a1b5f5cddd047c987b988a90c8c1')"
      ]
     },
     "metadata": {},
     "output_type": "display_data"
    },
    {
     "data": {
      "text/markdown": [
       "### Recommendation - With clustering"
      ],
      "text/plain": [
       "<IPython.core.display.Markdown object>"
      ]
     },
     "metadata": {},
     "output_type": "display_data"
    },
    {
     "data": {
      "text/plain": [
       "(                         product_id      product_category_name    score  \\\n",
       " 0  349ce46a0e2e20054aa9d80c48af8816  construction_tools_lights  5.00000   \n",
       " 1  389d119b48cf3043d311335e499d9c6b               garden_tools  4.97459   \n",
       " \n",
       "         price  \n",
       " 0  150.470238  \n",
       " 1   54.695383  ,\n",
       " '0064a1b5f5cddd047c987b988a90c8c1')"
      ]
     },
     "metadata": {},
     "output_type": "display_data"
    }
   ],
   "source": [
    "customer_idx = 0\n",
    "\n",
    "display(Markdown(\"### Bought Items\"))\n",
    "display(recommendationengine.get_bought_items(customer_idx=customer_idx, nr_of_items=2))\n",
    "\n",
    "display(Markdown(\"### Recommendation - Without clustering\"))\n",
    "display(recommendationengine.get_recommendation(customer_idx=customer_idx, nr_of_items=2))\n",
    "\n",
    "display(Markdown(\"### Recommendation - With clustering\"))\n",
    "display(recommendationengine.get_recommendation(customer_idx=customer_idx, nr_of_items=2, cluster=True))"
   ]
  },
  {
   "cell_type": "code",
   "execution_count": 18,
   "metadata": {},
   "outputs": [
    {
     "data": {
      "text/markdown": [
       "### Bought Items"
      ],
      "text/plain": [
       "<IPython.core.display.Markdown object>"
      ]
     },
     "metadata": {},
     "output_type": "display_data"
    },
    {
     "data": {
      "text/html": [
       "<div>\n",
       "<style scoped>\n",
       "    .dataframe tbody tr th:only-of-type {\n",
       "        vertical-align: middle;\n",
       "    }\n",
       "\n",
       "    .dataframe tbody tr th {\n",
       "        vertical-align: top;\n",
       "    }\n",
       "\n",
       "    .dataframe thead th {\n",
       "        text-align: right;\n",
       "    }\n",
       "</style>\n",
       "<table border=\"1\" class=\"dataframe\">\n",
       "  <thead>\n",
       "    <tr style=\"text-align: right;\">\n",
       "      <th></th>\n",
       "      <th>product_id</th>\n",
       "      <th>rating</th>\n",
       "      <th>product_category_name</th>\n",
       "      <th>price</th>\n",
       "    </tr>\n",
       "  </thead>\n",
       "  <tbody>\n",
       "    <tr>\n",
       "      <th>0</th>\n",
       "      <td>368c6c730842d78016ad823897a372db</td>\n",
       "      <td>5.0</td>\n",
       "      <td>garden_tools</td>\n",
       "      <td>49.9</td>\n",
       "    </tr>\n",
       "    <tr>\n",
       "      <th>1</th>\n",
       "      <td>389d119b48cf3043d311335e499d9c6b</td>\n",
       "      <td>5.0</td>\n",
       "      <td>garden_tools</td>\n",
       "      <td>49.9</td>\n",
       "    </tr>\n",
       "  </tbody>\n",
       "</table>\n",
       "</div>"
      ],
      "text/plain": [
       "                         product_id  rating product_category_name  price\n",
       "0  368c6c730842d78016ad823897a372db     5.0          garden_tools   49.9\n",
       "1  389d119b48cf3043d311335e499d9c6b     5.0          garden_tools   49.9"
      ]
     },
     "metadata": {},
     "output_type": "display_data"
    },
    {
     "data": {
      "text/markdown": [
       "### Recommendation - Without clustering"
      ],
      "text/plain": [
       "<IPython.core.display.Markdown object>"
      ]
     },
     "metadata": {},
     "output_type": "display_data"
    },
    {
     "data": {
      "text/plain": [
       "(                         product_id      product_category_name     score  \\\n",
       " 0  349ce46a0e2e20054aa9d80c48af8816  construction_tools_lights  4.999430   \n",
       " 1  b38b25d838ae0b8385e8cc68b9017644              health_beauty  4.998256   \n",
       " \n",
       "         price  \n",
       " 0  150.470238  \n",
       " 1  160.281250  ,\n",
       " '36cfec707344b75d20e6c7ef583c3b8c')"
      ]
     },
     "metadata": {},
     "output_type": "display_data"
    },
    {
     "data": {
      "text/markdown": [
       "### Recommendation - With clustering"
      ],
      "text/plain": [
       "<IPython.core.display.Markdown object>"
      ]
     },
     "metadata": {},
     "output_type": "display_data"
    },
    {
     "data": {
      "text/plain": [
       "(                         product_id      product_category_name     score  \\\n",
       " 0  349ce46a0e2e20054aa9d80c48af8816  construction_tools_lights  4.986168   \n",
       " 1  a19b6951c75da43aad691622dd2f6abe            furniture_decor  4.956619   \n",
       " \n",
       "         price  \n",
       " 0  150.470238  \n",
       " 1   35.448000  ,\n",
       " '36cfec707344b75d20e6c7ef583c3b8c')"
      ]
     },
     "metadata": {},
     "output_type": "display_data"
    }
   ],
   "source": [
    "customer_idx = 200\n",
    "display(Markdown(\"### Bought Items\"))\n",
    "display(recommendationengine.get_bought_items(customer_idx=customer_idx, nr_of_items=2))\n",
    "\n",
    "display(Markdown(\"### Recommendation - Without clustering\"))\n",
    "display(\n",
    "    recommendationengine.get_recommendation(customer_idx=customer_idx, nr_of_items=2)\n",
    ")\n",
    "\n",
    "display(Markdown(\"### Recommendation - With clustering\"))\n",
    "display(\n",
    "    recommendationengine.get_recommendation(\n",
    "        customer_idx=customer_idx, nr_of_items=2, cluster=True\n",
    "    )\n",
    ")"
   ]
  },
  {
   "cell_type": "code",
   "execution_count": 19,
   "metadata": {},
   "outputs": [
    {
     "data": {
      "text/markdown": [
       "### Bought Items"
      ],
      "text/plain": [
       "<IPython.core.display.Markdown object>"
      ]
     },
     "metadata": {},
     "output_type": "display_data"
    },
    {
     "data": {
      "text/html": [
       "<div>\n",
       "<style scoped>\n",
       "    .dataframe tbody tr th:only-of-type {\n",
       "        vertical-align: middle;\n",
       "    }\n",
       "\n",
       "    .dataframe tbody tr th {\n",
       "        vertical-align: top;\n",
       "    }\n",
       "\n",
       "    .dataframe thead th {\n",
       "        text-align: right;\n",
       "    }\n",
       "</style>\n",
       "<table border=\"1\" class=\"dataframe\">\n",
       "  <thead>\n",
       "    <tr style=\"text-align: right;\">\n",
       "      <th></th>\n",
       "      <th>product_id</th>\n",
       "      <th>rating</th>\n",
       "      <th>product_category_name</th>\n",
       "      <th>price</th>\n",
       "    </tr>\n",
       "  </thead>\n",
       "  <tbody>\n",
       "    <tr>\n",
       "      <th>0</th>\n",
       "      <td>36f60d45225e60c7da4558b070ce4b60</td>\n",
       "      <td>1.0</td>\n",
       "      <td>computers_accessories</td>\n",
       "      <td>88.0</td>\n",
       "    </tr>\n",
       "    <tr>\n",
       "      <th>1</th>\n",
       "      <td>e53e557d5a159f5aa2c5e995dfdf244b</td>\n",
       "      <td>1.0</td>\n",
       "      <td>computers_accessories</td>\n",
       "      <td>77.9</td>\n",
       "    </tr>\n",
       "  </tbody>\n",
       "</table>\n",
       "</div>"
      ],
      "text/plain": [
       "                         product_id  rating  product_category_name  price\n",
       "0  36f60d45225e60c7da4558b070ce4b60     1.0  computers_accessories   88.0\n",
       "1  e53e557d5a159f5aa2c5e995dfdf244b     1.0  computers_accessories   77.9"
      ]
     },
     "metadata": {},
     "output_type": "display_data"
    },
    {
     "data": {
      "text/markdown": [
       "### Recommendation - Without clustering"
      ],
      "text/plain": [
       "<IPython.core.display.Markdown object>"
      ]
     },
     "metadata": {},
     "output_type": "display_data"
    },
    {
     "data": {
      "text/plain": [
       "(                         product_id product_category_name     score  \\\n",
       " 0  67bd616e1ba0d3d3e8545f3113b0140d         health_beauty  4.994034   \n",
       " 1  fe6a9515d655fa7936b8a7c841039f34            cool_stuff  4.994034   \n",
       " \n",
       "         price  \n",
       " 0   15.030541  \n",
       " 1  250.400000  ,\n",
       " 'a4669a28dd126c93ca64ddf49a15e496')"
      ]
     },
     "metadata": {},
     "output_type": "display_data"
    },
    {
     "data": {
      "text/markdown": [
       "### Recommendation - With clustering"
      ],
      "text/plain": [
       "<IPython.core.display.Markdown object>"
      ]
     },
     "metadata": {},
     "output_type": "display_data"
    },
    {
     "data": {
      "text/plain": [
       "(                         product_id  product_category_name     score  \\\n",
       " 1  ee57070aa3b24a06fdd0e02efd2d757d  computers_accessories  4.297065   \n",
       " 0  3f14d740544f37ece8a9e7bc8349797e  computers_accessories  3.305885   \n",
       " \n",
       "        price  \n",
       " 1  73.579600  \n",
       " 0  84.956374  ,\n",
       " 'a4669a28dd126c93ca64ddf49a15e496')"
      ]
     },
     "metadata": {},
     "output_type": "display_data"
    }
   ],
   "source": [
    "customer_idx = 630\n",
    "display(Markdown(\"### Bought Items\"))\n",
    "display(recommendationengine.get_bought_items(customer_idx=customer_idx, nr_of_items=2))\n",
    "\n",
    "display(Markdown(\"### Recommendation - Without clustering\"))\n",
    "display(\n",
    "    recommendationengine.get_recommendation(customer_idx=customer_idx, nr_of_items=2)\n",
    ")\n",
    "\n",
    "display(Markdown(\"### Recommendation - With clustering\"))\n",
    "display(\n",
    "    recommendationengine.get_recommendation(\n",
    "        customer_idx=customer_idx, nr_of_items=2, cluster=True\n",
    "    )\n",
    ")"
   ]
  },
  {
   "cell_type": "code",
   "execution_count": null,
   "metadata": {},
   "outputs": [],
   "source": []
  }
 ],
 "metadata": {
  "kernelspec": {
   "display_name": "Python 3.9.12 ('advanced')",
   "language": "python",
   "name": "python3"
  },
  "language_info": {
   "codemirror_mode": {
    "name": "ipython",
    "version": 3
   },
   "file_extension": ".py",
   "mimetype": "text/x-python",
   "name": "python",
   "nbconvert_exporter": "python",
   "pygments_lexer": "ipython3",
   "version": "3.9.12"
  },
  "orig_nbformat": 4,
  "vscode": {
   "interpreter": {
    "hash": "987e9dfeaf8d7b4c829123d011957fbba16576391d7d368ba4a045b7729615f6"
   }
  }
 },
 "nbformat": 4,
 "nbformat_minor": 2
}
