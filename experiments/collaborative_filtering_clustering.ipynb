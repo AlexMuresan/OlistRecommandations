{
 "cells": [
  {
   "cell_type": "code",
   "execution_count": 1,
   "metadata": {},
   "outputs": [],
   "source": [
    "import os\n",
    "\n",
    "import random\n",
    "import numpy as np\n",
    "import pandas as pd\n",
    "import seaborn as sns\n",
    "import matplotlib.pyplot as plt\n",
    "\n",
    "from IPython.display import display, Math\n",
    "from sklearn.metrics.pairwise import cosine_similarity\n",
    "from recommender import RecommendationEngine\n",
    "from utils import get_translation_dict"
   ]
  },
  {
   "cell_type": "code",
   "execution_count": 2,
   "metadata": {},
   "outputs": [],
   "source": [
    "# Loading necessary csvs into Pandas\n",
    "data_folder = \"/Users/alex/Workspace/Datasets/OlistEcommercePublicDataset\"\n",
    "\n",
    "orders_df = pd.read_csv(os.path.join(data_folder, \"olist_orders_dataset.csv\"))\n",
    "reviews_df = pd.read_csv(os.path.join(data_folder, \"olist_order_reviews_dataset.csv\"))\n",
    "products_df = pd.read_csv(os.path.join(data_folder, \"olist_products_dataset.csv\"))\n",
    "order_items_df = pd.read_csv(os.path.join(data_folder, \"olist_order_items_dataset.csv\"))\n",
    "customer_df = pd.read_csv(os.path.join(data_folder, \"olist_customers_dataset.csv\"))\n",
    "cat_name_translation = pd.read_csv(\n",
    "    os.path.join(data_folder, \"product_category_name_translation.csv\")\n",
    ")\n",
    "\n",
    "dfs = [orders_df, reviews_df, products_df, order_items_df, customer_df]\n",
    "\n",
    "# Converting ID columns from 'object' type to string\n",
    "for df in dfs:\n",
    "    for column, ctype in zip(df.columns, df.dtypes):\n",
    "        if ctype == \"object\":\n",
    "            df[column] = df[column].astype(\"string\")\n",
    "\n",
    "unique_id_df = pd.merge(\n",
    "    orders_df[[\"order_id\", \"customer_id\"]],\n",
    "    customer_df[[\"customer_id\", \"customer_unique_id\"]],\n",
    "    on=[\"customer_id\"],\n",
    "    how=\"inner\",\n",
    ")\n",
    "\n",
    "product_and_order_id_df = pd.merge(\n",
    "    orders_df[[\"order_id\", \"customer_id\"]],\n",
    "    order_items_df[[\"order_id\", \"product_id\"]],\n",
    "    on=[\"order_id\"],\n",
    "    how=\"inner\",\n",
    ")\n",
    "user_product_order_id_df = pd.merge(\n",
    "    unique_id_df, product_and_order_id_df, on=[\"order_id\", \"customer_id\"], how=\"inner\"\n",
    ")\n",
    "final_df = pd.merge(\n",
    "    user_product_order_id_df,\n",
    "    reviews_df[[\"order_id\", \"review_score\"]],\n",
    "    on=[\"order_id\"],\n",
    "    how=\"inner\",\n",
    ").drop([\"customer_id\", \"order_id\"], axis=1)\n",
    "\n",
    "### Filtering dataframes so we have a smaller subset\n",
    "data = final_df.copy()\n",
    "\n",
    "# get total counts of no. of occurence of product\n",
    "data[\"count\"] = data.groupby(\"product_id\").transform(\"count\")[\"customer_unique_id\"]\n",
    "\n",
    "# fetch top 100 movies based on count\n",
    "product_id = (\n",
    "    data.drop_duplicates(\"product_id\")\n",
    "    .sort_values(\"count\", ascending=False)\n",
    "    .iloc[:500][\"product_id\"]\n",
    ")\n",
    "\n",
    "# filter out data as per the product_id\n",
    "data = data[data[\"product_id\"].isin(product_id)].reset_index(drop=True)\n",
    "\n",
    "# get total counts of no. of occurence of customer\n",
    "data[\"count\"] = data.groupby(\"customer_unique_id\").transform(\"count\")[\"product_id\"]\n",
    "\n",
    "# fetch top 1000 products based on count\n",
    "customer_id = (\n",
    "        data.drop_duplicates(\"customer_unique_id\")\n",
    "        .sort_values(\"count\", ascending=False)\n",
    "        .iloc[:1000][\"customer_unique_id\"]\n",
    "    )\n",
    "\n",
    "data = data[data[\"customer_unique_id\"].isin(customer_id)].reset_index(drop=True)"
   ]
  },
  {
   "cell_type": "code",
   "execution_count": 3,
   "metadata": {},
   "outputs": [],
   "source": [
    "# Pivoting DataFrame to obtain a User-Item matrix\n",
    "df = data.pivot_table(index=\"customer_unique_id\", columns=\"product_id\", values=\"review_score\")"
   ]
  },
  {
   "cell_type": "code",
   "execution_count": 18,
   "metadata": {},
   "outputs": [
    {
     "data": {
      "text/plain": [
       "'4c4584a82633ac90e58fe2d141d7433e'"
      ]
     },
     "execution_count": 18,
     "metadata": {},
     "output_type": "execute_result"
    }
   ],
   "source": [
    "customer_idx = 280\n",
    "# customer_idx = 0\n",
    "customer_id = df.iloc[customer_idx].name\n",
    "customer_id"
   ]
  },
  {
   "cell_type": "code",
   "execution_count": 19,
   "metadata": {},
   "outputs": [
    {
     "data": {
      "text/html": [
       "<div>\n",
       "<style scoped>\n",
       "    .dataframe tbody tr th:only-of-type {\n",
       "        vertical-align: middle;\n",
       "    }\n",
       "\n",
       "    .dataframe tbody tr th {\n",
       "        vertical-align: top;\n",
       "    }\n",
       "\n",
       "    .dataframe thead th {\n",
       "        text-align: right;\n",
       "    }\n",
       "</style>\n",
       "<table border=\"1\" class=\"dataframe\">\n",
       "  <thead>\n",
       "    <tr style=\"text-align: right;\">\n",
       "      <th>product_id</th>\n",
       "      <th>634256dbcd184b3757ffd7632c9fe52a</th>\n",
       "    </tr>\n",
       "    <tr>\n",
       "      <th>customer_unique_id</th>\n",
       "      <th></th>\n",
       "    </tr>\n",
       "  </thead>\n",
       "  <tbody>\n",
       "    <tr>\n",
       "      <th>00b1066a65657ee1759544f6b61a4e2c</th>\n",
       "      <td>5</td>\n",
       "    </tr>\n",
       "    <tr>\n",
       "      <th>08371b8fa87d33d519335b836d8abf12</th>\n",
       "      <td>5</td>\n",
       "    </tr>\n",
       "    <tr>\n",
       "      <th>0f1057714bc593f65f125ca25d140d17</th>\n",
       "      <td>5</td>\n",
       "    </tr>\n",
       "    <tr>\n",
       "      <th>10b442e762ba8a5ad22de5ba2207e5f1</th>\n",
       "      <td>5</td>\n",
       "    </tr>\n",
       "    <tr>\n",
       "      <th>161a927c39ab276c394039d5f64c9c99</th>\n",
       "      <td>5</td>\n",
       "    </tr>\n",
       "    <tr>\n",
       "      <th>17cf7606dd2c75de6761b0a30652c8ce</th>\n",
       "      <td>5</td>\n",
       "    </tr>\n",
       "    <tr>\n",
       "      <th>197884ee7c9574b7d8c907d911035aa4</th>\n",
       "      <td>1</td>\n",
       "    </tr>\n",
       "    <tr>\n",
       "      <th>1e728b530adb1a64bd4e2a3f728e65e5</th>\n",
       "      <td>1</td>\n",
       "    </tr>\n",
       "    <tr>\n",
       "      <th>327a48c6f5aa9ae7cec1faa4576bad5d</th>\n",
       "      <td>4</td>\n",
       "    </tr>\n",
       "    <tr>\n",
       "      <th>33959d22e93db0d397bfb42624e1ba92</th>\n",
       "      <td>5</td>\n",
       "    </tr>\n",
       "    <tr>\n",
       "      <th>3792b591c5fa50a7e1cce6087fd02bec</th>\n",
       "      <td>5</td>\n",
       "    </tr>\n",
       "    <tr>\n",
       "      <th>3f33e7e7a4f7ee0ccf8fe97631476ee1</th>\n",
       "      <td>5</td>\n",
       "    </tr>\n",
       "    <tr>\n",
       "      <th>4c4584a82633ac90e58fe2d141d7433e</th>\n",
       "      <td>1</td>\n",
       "    </tr>\n",
       "    <tr>\n",
       "      <th>4df547e9d237aae3fe69a0a21ac1f809</th>\n",
       "      <td>4</td>\n",
       "    </tr>\n",
       "    <tr>\n",
       "      <th>5b38ad98107098293758a5a9a7a6aca4</th>\n",
       "      <td>5</td>\n",
       "    </tr>\n",
       "    <tr>\n",
       "      <th>62ed60b3cf99e01f09499205314419aa</th>\n",
       "      <td>5</td>\n",
       "    </tr>\n",
       "    <tr>\n",
       "      <th>6ca72e10ed21fc12e5be15d7812c7eea</th>\n",
       "      <td>5</td>\n",
       "    </tr>\n",
       "    <tr>\n",
       "      <th>72b43a3cbfcbf7f7b6c08deed86d7cc7</th>\n",
       "      <td>5</td>\n",
       "    </tr>\n",
       "    <tr>\n",
       "      <th>732c586984ab33016e174c8e51e38297</th>\n",
       "      <td>5</td>\n",
       "    </tr>\n",
       "    <tr>\n",
       "      <th>74484a93945a08b6209abcfc66e42522</th>\n",
       "      <td>5</td>\n",
       "    </tr>\n",
       "    <tr>\n",
       "      <th>7ab70dec691e6ced0e10140d4668ab00</th>\n",
       "      <td>5</td>\n",
       "    </tr>\n",
       "    <tr>\n",
       "      <th>7e04891cacaba45a6160a80c09758633</th>\n",
       "      <td>5</td>\n",
       "    </tr>\n",
       "    <tr>\n",
       "      <th>851806f49ab128d0acfef8ea997e137d</th>\n",
       "      <td>5</td>\n",
       "    </tr>\n",
       "    <tr>\n",
       "      <th>91b721d32e8d30023ad17bddb6f6eee7</th>\n",
       "      <td>5</td>\n",
       "    </tr>\n",
       "    <tr>\n",
       "      <th>95f4b915c12f5b61a638f3928d23a89c</th>\n",
       "      <td>4</td>\n",
       "    </tr>\n",
       "    <tr>\n",
       "      <th>97c7d72d01f83be7cd235a3658b938c5</th>\n",
       "      <td>5</td>\n",
       "    </tr>\n",
       "    <tr>\n",
       "      <th>9892bcb1734eb6ee2e801296ddcee713</th>\n",
       "      <td>4</td>\n",
       "    </tr>\n",
       "    <tr>\n",
       "      <th>9a6f808e3b85babc574ea2f425415936</th>\n",
       "      <td>5</td>\n",
       "    </tr>\n",
       "    <tr>\n",
       "      <th>9f3495fec7de50e7f0e31d3f1ed3c526</th>\n",
       "      <td>5</td>\n",
       "    </tr>\n",
       "    <tr>\n",
       "      <th>a7bebc53acf7b2c31550f06a58076d17</th>\n",
       "      <td>5</td>\n",
       "    </tr>\n",
       "    <tr>\n",
       "      <th>ab37ef857a91599810a1aad74cd34407</th>\n",
       "      <td>3</td>\n",
       "    </tr>\n",
       "    <tr>\n",
       "      <th>abcf3aaa32c5bc43782f0e3cb2a3cba4</th>\n",
       "      <td>3</td>\n",
       "    </tr>\n",
       "    <tr>\n",
       "      <th>b12e97cb3bf8d1b59fc21cfac8e9dfd4</th>\n",
       "      <td>5</td>\n",
       "    </tr>\n",
       "    <tr>\n",
       "      <th>b259b009b425d402eb2160a3a614d3be</th>\n",
       "      <td>5</td>\n",
       "    </tr>\n",
       "    <tr>\n",
       "      <th>bd6758b5fc97ec419f070b803fec362b</th>\n",
       "      <td>2</td>\n",
       "    </tr>\n",
       "    <tr>\n",
       "      <th>c278306315d869f89e9e0f813192911b</th>\n",
       "      <td>5</td>\n",
       "    </tr>\n",
       "    <tr>\n",
       "      <th>c683ed9776a3bb038982ef2aaacdb9a5</th>\n",
       "      <td>5</td>\n",
       "    </tr>\n",
       "    <tr>\n",
       "      <th>c8abffe7e68de3d6c4b6dd6d4c320dd4</th>\n",
       "      <td>5</td>\n",
       "    </tr>\n",
       "    <tr>\n",
       "      <th>cfa0256f86108d8c0cdfa164b042d862</th>\n",
       "      <td>5</td>\n",
       "    </tr>\n",
       "    <tr>\n",
       "      <th>d00ba4e03045ecb66917ad9eb1b76bb5</th>\n",
       "      <td>5</td>\n",
       "    </tr>\n",
       "    <tr>\n",
       "      <th>d8f5d0ec371c4c801da02488edc6aeb8</th>\n",
       "      <td>5</td>\n",
       "    </tr>\n",
       "    <tr>\n",
       "      <th>dbe1af764dcabd00ec0e60e989c1a46e</th>\n",
       "      <td>5</td>\n",
       "    </tr>\n",
       "    <tr>\n",
       "      <th>dc170fa9d3d1635e5584b8f137ee3992</th>\n",
       "      <td>5</td>\n",
       "    </tr>\n",
       "    <tr>\n",
       "      <th>dda38d4b3e3efd152b4bad4b9d57963f</th>\n",
       "      <td>4</td>\n",
       "    </tr>\n",
       "    <tr>\n",
       "      <th>e005e7fb556bb7b6c677dfe30a85846d</th>\n",
       "      <td>5</td>\n",
       "    </tr>\n",
       "    <tr>\n",
       "      <th>ec0d14f6ecca05089a0a9e0440d3d8de</th>\n",
       "      <td>5</td>\n",
       "    </tr>\n",
       "    <tr>\n",
       "      <th>f00feb2d02bbc58957ea2cd1d9b4f815</th>\n",
       "      <td>5</td>\n",
       "    </tr>\n",
       "    <tr>\n",
       "      <th>f102240598836332442c455abbcecfbc</th>\n",
       "      <td>5</td>\n",
       "    </tr>\n",
       "    <tr>\n",
       "      <th>f6a0ba639e185c1b11c1712fad9879c2</th>\n",
       "      <td>3</td>\n",
       "    </tr>\n",
       "    <tr>\n",
       "      <th>fb8497fbbc2245f9911574aa498414e7</th>\n",
       "      <td>1</td>\n",
       "    </tr>\n",
       "  </tbody>\n",
       "</table>\n",
       "</div>"
      ],
      "text/plain": [
       "product_id                        634256dbcd184b3757ffd7632c9fe52a\n",
       "customer_unique_id                                                \n",
       "00b1066a65657ee1759544f6b61a4e2c                                 5\n",
       "08371b8fa87d33d519335b836d8abf12                                 5\n",
       "0f1057714bc593f65f125ca25d140d17                                 5\n",
       "10b442e762ba8a5ad22de5ba2207e5f1                                 5\n",
       "161a927c39ab276c394039d5f64c9c99                                 5\n",
       "17cf7606dd2c75de6761b0a30652c8ce                                 5\n",
       "197884ee7c9574b7d8c907d911035aa4                                 1\n",
       "1e728b530adb1a64bd4e2a3f728e65e5                                 1\n",
       "327a48c6f5aa9ae7cec1faa4576bad5d                                 4\n",
       "33959d22e93db0d397bfb42624e1ba92                                 5\n",
       "3792b591c5fa50a7e1cce6087fd02bec                                 5\n",
       "3f33e7e7a4f7ee0ccf8fe97631476ee1                                 5\n",
       "4c4584a82633ac90e58fe2d141d7433e                                 1\n",
       "4df547e9d237aae3fe69a0a21ac1f809                                 4\n",
       "5b38ad98107098293758a5a9a7a6aca4                                 5\n",
       "62ed60b3cf99e01f09499205314419aa                                 5\n",
       "6ca72e10ed21fc12e5be15d7812c7eea                                 5\n",
       "72b43a3cbfcbf7f7b6c08deed86d7cc7                                 5\n",
       "732c586984ab33016e174c8e51e38297                                 5\n",
       "74484a93945a08b6209abcfc66e42522                                 5\n",
       "7ab70dec691e6ced0e10140d4668ab00                                 5\n",
       "7e04891cacaba45a6160a80c09758633                                 5\n",
       "851806f49ab128d0acfef8ea997e137d                                 5\n",
       "91b721d32e8d30023ad17bddb6f6eee7                                 5\n",
       "95f4b915c12f5b61a638f3928d23a89c                                 4\n",
       "97c7d72d01f83be7cd235a3658b938c5                                 5\n",
       "9892bcb1734eb6ee2e801296ddcee713                                 4\n",
       "9a6f808e3b85babc574ea2f425415936                                 5\n",
       "9f3495fec7de50e7f0e31d3f1ed3c526                                 5\n",
       "a7bebc53acf7b2c31550f06a58076d17                                 5\n",
       "ab37ef857a91599810a1aad74cd34407                                 3\n",
       "abcf3aaa32c5bc43782f0e3cb2a3cba4                                 3\n",
       "b12e97cb3bf8d1b59fc21cfac8e9dfd4                                 5\n",
       "b259b009b425d402eb2160a3a614d3be                                 5\n",
       "bd6758b5fc97ec419f070b803fec362b                                 2\n",
       "c278306315d869f89e9e0f813192911b                                 5\n",
       "c683ed9776a3bb038982ef2aaacdb9a5                                 5\n",
       "c8abffe7e68de3d6c4b6dd6d4c320dd4                                 5\n",
       "cfa0256f86108d8c0cdfa164b042d862                                 5\n",
       "d00ba4e03045ecb66917ad9eb1b76bb5                                 5\n",
       "d8f5d0ec371c4c801da02488edc6aeb8                                 5\n",
       "dbe1af764dcabd00ec0e60e989c1a46e                                 5\n",
       "dc170fa9d3d1635e5584b8f137ee3992                                 5\n",
       "dda38d4b3e3efd152b4bad4b9d57963f                                 4\n",
       "e005e7fb556bb7b6c677dfe30a85846d                                 5\n",
       "ec0d14f6ecca05089a0a9e0440d3d8de                                 5\n",
       "f00feb2d02bbc58957ea2cd1d9b4f815                                 5\n",
       "f102240598836332442c455abbcecfbc                                 5\n",
       "f6a0ba639e185c1b11c1712fad9879c2                                 3\n",
       "fb8497fbbc2245f9911574aa498414e7                                 1"
      ]
     },
     "execution_count": 19,
     "metadata": {},
     "output_type": "execute_result"
    }
   ],
   "source": [
    "items_bought = list(final_df[final_df['customer_unique_id'] == customer_id].drop_duplicates('product_id')['product_id'].values)\n",
    "users_with_same_items = final_df[final_df['product_id'].isin(items_bought)]\n",
    "df_same_items = users_with_same_items.pivot_table(index=\"customer_unique_id\", columns=\"product_id\", values=\"review_score\")\n",
    "df_same_items"
   ]
  },
  {
   "cell_type": "code",
   "execution_count": 20,
   "metadata": {},
   "outputs": [],
   "source": [
    "df_same_items_full = pd.merge(users_with_same_items['customer_unique_id'], final_df, on='customer_unique_id', how='inner').drop_duplicates()\n",
    "# df_same_items_full = df_same_items_full.pivot_table(index=\"customer_unique_id\", columns=\"product_id\", values=\"review_score\")"
   ]
  },
  {
   "cell_type": "code",
   "execution_count": 21,
   "metadata": {},
   "outputs": [],
   "source": [
    "# Loading translation dictionary [Portugues -> English]\n",
    "translate_dict = get_translation_dict(cat_name_translation)\n",
    "\n",
    "# Initializing our custom recommendation engine\n",
    "recommendationengine = RecommendationEngine(df_same_items_full, products_df, order_items_df, translate_dict)"
   ]
  },
  {
   "cell_type": "code",
   "execution_count": 22,
   "metadata": {},
   "outputs": [
    {
     "ename": "IndexError",
     "evalue": "index 280 is out of bounds for axis 0 with size 50",
     "output_type": "error",
     "traceback": [
      "\u001b[0;31m---------------------------------------------------------------------------\u001b[0m",
      "\u001b[0;31mIndexError\u001b[0m                                Traceback (most recent call last)",
      "\u001b[1;32m/Users/alex/Workspace/work/CollaborativeFiltering/OlistRecommandations/collaborative_filtering_clustering.ipynb Cell 8'\u001b[0m in \u001b[0;36m<cell line: 1>\u001b[0;34m()\u001b[0m\n\u001b[0;32m----> <a href='vscode-notebook-cell:/Users/alex/Workspace/work/CollaborativeFiltering/OlistRecommandations/collaborative_filtering_clustering.ipynb#ch0000018?line=0'>1</a>\u001b[0m display(recommendationengine\u001b[39m.\u001b[39;49mget_recommendation(customer_idx\u001b[39m=\u001b[39;49mcustomer_idx, nr_of_items\u001b[39m=\u001b[39;49m\u001b[39m2\u001b[39;49m))\n\u001b[1;32m      <a href='vscode-notebook-cell:/Users/alex/Workspace/work/CollaborativeFiltering/OlistRecommandations/collaborative_filtering_clustering.ipynb#ch0000018?line=1'>2</a>\u001b[0m display(recommendationengine\u001b[39m.\u001b[39mget_bought_items(customer_idx\u001b[39m=\u001b[39mcustomer_idx, nr_of_items\u001b[39m=\u001b[39m\u001b[39m2\u001b[39m))\n",
      "File \u001b[0;32m~/Workspace/work/CollaborativeFiltering/OlistRecommandations/recommender.py:27\u001b[0m, in \u001b[0;36mRecommendationEngine.get_recommendation\u001b[0;34m(self, customer_idx, nr_of_items, cluster)\u001b[0m\n\u001b[1;32m     24\u001b[0m     similarity_matrix \u001b[39m=\u001b[39m \u001b[39mself\u001b[39m\u001b[39m.\u001b[39msimilarity_matrix\n\u001b[1;32m     26\u001b[0m \u001b[39m# Retrieving similarity of current customer with other customers\u001b[39;00m\n\u001b[0;32m---> 27\u001b[0m similarity_scores \u001b[39m=\u001b[39m \u001b[39mlist\u001b[39m(\u001b[39menumerate\u001b[39m(similarity_matrix[customer_idx]))\n\u001b[1;32m     29\u001b[0m \u001b[39m# Getting the products that were not rated by the current customer\u001b[39;00m\n\u001b[1;32m     30\u001b[0m unrated_products \u001b[39m=\u001b[39m df\u001b[39m.\u001b[39miloc[customer_idx][df\u001b[39m.\u001b[39miloc[customer_idx]\u001b[39m.\u001b[39misna()]\u001b[39m.\u001b[39mindex\n",
      "\u001b[0;31mIndexError\u001b[0m: index 280 is out of bounds for axis 0 with size 50"
     ]
    }
   ],
   "source": [
    "display(recommendationengine.get_recommendation(customer_idx=customer_idx, nr_of_items=2))\n",
    "display(recommendationengine.get_bought_items(customer_idx=customer_idx, nr_of_items=2))"
   ]
  },
  {
   "cell_type": "code",
   "execution_count": 11,
   "metadata": {},
   "outputs": [],
   "source": [
    "recommendationengine_2 = RecommendationEngine(data, products_df, order_items_df, translate_dict)"
   ]
  },
  {
   "cell_type": "code",
   "execution_count": 12,
   "metadata": {},
   "outputs": [
    {
     "data": {
      "text/html": [
       "<div>\n",
       "<style scoped>\n",
       "    .dataframe tbody tr th:only-of-type {\n",
       "        vertical-align: middle;\n",
       "    }\n",
       "\n",
       "    .dataframe tbody tr th {\n",
       "        vertical-align: top;\n",
       "    }\n",
       "\n",
       "    .dataframe thead th {\n",
       "        text-align: right;\n",
       "    }\n",
       "</style>\n",
       "<table border=\"1\" class=\"dataframe\">\n",
       "  <thead>\n",
       "    <tr style=\"text-align: right;\">\n",
       "      <th></th>\n",
       "      <th>product_id</th>\n",
       "      <th>product_category_name</th>\n",
       "      <th>score</th>\n",
       "      <th>price</th>\n",
       "    </tr>\n",
       "  </thead>\n",
       "  <tbody>\n",
       "    <tr>\n",
       "      <th>0</th>\n",
       "      <td>349ce46a0e2e20054aa9d80c48af8816</td>\n",
       "      <td>construction_tools_lights</td>\n",
       "      <td>4.999430</td>\n",
       "      <td>150.470238</td>\n",
       "    </tr>\n",
       "    <tr>\n",
       "      <th>1</th>\n",
       "      <td>b38b25d838ae0b8385e8cc68b9017644</td>\n",
       "      <td>health_beauty</td>\n",
       "      <td>4.998256</td>\n",
       "      <td>160.281250</td>\n",
       "    </tr>\n",
       "  </tbody>\n",
       "</table>\n",
       "</div>"
      ],
      "text/plain": [
       "                         product_id      product_category_name     score  \\\n",
       "0  349ce46a0e2e20054aa9d80c48af8816  construction_tools_lights  4.999430   \n",
       "1  b38b25d838ae0b8385e8cc68b9017644              health_beauty  4.998256   \n",
       "\n",
       "        price  \n",
       "0  150.470238  \n",
       "1  160.281250  "
      ]
     },
     "metadata": {},
     "output_type": "display_data"
    },
    {
     "data": {
      "text/html": [
       "<div>\n",
       "<style scoped>\n",
       "    .dataframe tbody tr th:only-of-type {\n",
       "        vertical-align: middle;\n",
       "    }\n",
       "\n",
       "    .dataframe tbody tr th {\n",
       "        vertical-align: top;\n",
       "    }\n",
       "\n",
       "    .dataframe thead th {\n",
       "        text-align: right;\n",
       "    }\n",
       "</style>\n",
       "<table border=\"1\" class=\"dataframe\">\n",
       "  <thead>\n",
       "    <tr style=\"text-align: right;\">\n",
       "      <th></th>\n",
       "      <th>product_id</th>\n",
       "      <th>rating</th>\n",
       "      <th>product_category_name</th>\n",
       "      <th>price</th>\n",
       "    </tr>\n",
       "  </thead>\n",
       "  <tbody>\n",
       "    <tr>\n",
       "      <th>0</th>\n",
       "      <td>368c6c730842d78016ad823897a372db</td>\n",
       "      <td>5.0</td>\n",
       "      <td>garden_tools</td>\n",
       "      <td>49.9</td>\n",
       "    </tr>\n",
       "    <tr>\n",
       "      <th>1</th>\n",
       "      <td>389d119b48cf3043d311335e499d9c6b</td>\n",
       "      <td>5.0</td>\n",
       "      <td>garden_tools</td>\n",
       "      <td>49.9</td>\n",
       "    </tr>\n",
       "  </tbody>\n",
       "</table>\n",
       "</div>"
      ],
      "text/plain": [
       "                         product_id  rating product_category_name  price\n",
       "0  368c6c730842d78016ad823897a372db     5.0          garden_tools   49.9\n",
       "1  389d119b48cf3043d311335e499d9c6b     5.0          garden_tools   49.9"
      ]
     },
     "metadata": {},
     "output_type": "display_data"
    }
   ],
   "source": [
    "display(recommendationengine_2.get_recommendation(customer_idx=customer_idx, nr_of_items=2))\n",
    "display(recommendationengine_2.get_bought_items(customer_idx=customer_idx, nr_of_items=2))"
   ]
  },
  {
   "cell_type": "code",
   "execution_count": 24,
   "metadata": {},
   "outputs": [],
   "source": [
    "df_same_items_full = pd.merge(users_with_same_items['customer_unique_id'], final_df, on='customer_unique_id', how='inner').drop_duplicates()\n",
    "df_same_items_full_pivot = df_same_items_full.pivot_table(index=\"customer_unique_id\", columns=\"product_id\", values=\"review_score\")\n",
    "\n",
    "df_same_items_full_imputed = df_same_items_full_pivot.fillna(df_same_items_full_pivot.mean(axis=0))\n",
    "similarity_matrix = cosine_similarity(df_same_items_full_imputed)"
   ]
  },
  {
   "cell_type": "code",
   "execution_count": 25,
   "metadata": {},
   "outputs": [
    {
     "data": {
      "text/plain": [
       "array([[1.        , 1.        , 1.        , ..., 1.        , 0.9701425 ,\n",
       "        0.83205029],\n",
       "       [1.        , 1.        , 1.        , ..., 1.        , 0.9701425 ,\n",
       "        0.83205029],\n",
       "       [1.        , 1.        , 1.        , ..., 1.        , 0.9701425 ,\n",
       "        0.83205029],\n",
       "       ...,\n",
       "       [1.        , 1.        , 1.        , ..., 1.        , 0.9701425 ,\n",
       "        0.83205029],\n",
       "       [0.9701425 , 0.9701425 , 0.9701425 , ..., 0.9701425 , 1.        ,\n",
       "        0.94174191],\n",
       "       [0.83205029, 0.83205029, 0.83205029, ..., 0.83205029, 0.94174191,\n",
       "        1.        ]])"
      ]
     },
     "execution_count": 25,
     "metadata": {},
     "output_type": "execute_result"
    }
   ],
   "source": [
    "similarity_matrix"
   ]
  },
  {
   "cell_type": "code",
   "execution_count": 26,
   "metadata": {},
   "outputs": [
    {
     "data": {
      "text/plain": [
       "'4c4584a82633ac90e58fe2d141d7433e'"
      ]
     },
     "execution_count": 26,
     "metadata": {},
     "output_type": "execute_result"
    }
   ],
   "source": [
    "customer_idx = 280\n",
    "# customer_idx = 0\n",
    "customer_id = df.iloc[customer_idx].name\n",
    "customer_id"
   ]
  },
  {
   "cell_type": "code",
   "execution_count": 54,
   "metadata": {},
   "outputs": [
    {
     "data": {
      "text/html": [
       "<div>\n",
       "<style scoped>\n",
       "    .dataframe tbody tr th:only-of-type {\n",
       "        vertical-align: middle;\n",
       "    }\n",
       "\n",
       "    .dataframe tbody tr th {\n",
       "        vertical-align: top;\n",
       "    }\n",
       "\n",
       "    .dataframe thead th {\n",
       "        text-align: right;\n",
       "    }\n",
       "</style>\n",
       "<table border=\"1\" class=\"dataframe\">\n",
       "  <thead>\n",
       "    <tr style=\"text-align: right;\">\n",
       "      <th>product_id</th>\n",
       "      <th>634256dbcd184b3757ffd7632c9fe52a</th>\n",
       "      <th>72ef87b1953a2844ed089bd6dcf73913</th>\n",
       "    </tr>\n",
       "    <tr>\n",
       "      <th>customer_unique_id</th>\n",
       "      <th></th>\n",
       "      <th></th>\n",
       "    </tr>\n",
       "  </thead>\n",
       "  <tbody>\n",
       "    <tr>\n",
       "      <th>4c4584a82633ac90e58fe2d141d7433e</th>\n",
       "      <td>1.0</td>\n",
       "      <td>5.0</td>\n",
       "    </tr>\n",
       "  </tbody>\n",
       "</table>\n",
       "</div>"
      ],
      "text/plain": [
       "product_id                        634256dbcd184b3757ffd7632c9fe52a  \\\n",
       "customer_unique_id                                                   \n",
       "4c4584a82633ac90e58fe2d141d7433e                               1.0   \n",
       "\n",
       "product_id                        72ef87b1953a2844ed089bd6dcf73913  \n",
       "customer_unique_id                                                  \n",
       "4c4584a82633ac90e58fe2d141d7433e                               5.0  "
      ]
     },
     "execution_count": 54,
     "metadata": {},
     "output_type": "execute_result"
    }
   ],
   "source": [
    "df_same_items_full_imputed[df_same_items_full_imputed.index == customer_id]"
   ]
  },
  {
   "cell_type": "code",
   "execution_count": 68,
   "metadata": {},
   "outputs": [
    {
     "data": {
      "text/plain": [
       "12"
      ]
     },
     "execution_count": 68,
     "metadata": {},
     "output_type": "execute_result"
    }
   ],
   "source": [
    "df_same_items_full_imputed.index.get_loc(customer_id)"
   ]
  },
  {
   "cell_type": "code",
   "execution_count": 69,
   "metadata": {},
   "outputs": [
    {
     "data": {
      "text/plain": [
       "product_id\n",
       "634256dbcd184b3757ffd7632c9fe52a    1.0\n",
       "72ef87b1953a2844ed089bd6dcf73913    5.0\n",
       "Name: 4c4584a82633ac90e58fe2d141d7433e, dtype: float64"
      ]
     },
     "execution_count": 69,
     "metadata": {},
     "output_type": "execute_result"
    }
   ],
   "source": [
    "df_same_items_full_imputed.iloc[12]"
   ]
  },
  {
   "cell_type": "code",
   "execution_count": 70,
   "metadata": {},
   "outputs": [
    {
     "data": {
      "text/plain": [
       "pandas.core.frame.DataFrame"
      ]
     },
     "execution_count": 70,
     "metadata": {},
     "output_type": "execute_result"
    }
   ],
   "source": [
    "type(df_same_items_full_imputed)"
   ]
  },
  {
   "cell_type": "code",
   "execution_count": null,
   "metadata": {},
   "outputs": [],
   "source": []
  }
 ],
 "metadata": {
  "kernelspec": {
   "display_name": "Python 3.9.12 ('advanced')",
   "language": "python",
   "name": "python3"
  },
  "language_info": {
   "codemirror_mode": {
    "name": "ipython",
    "version": 3
   },
   "file_extension": ".py",
   "mimetype": "text/x-python",
   "name": "python",
   "nbconvert_exporter": "python",
   "pygments_lexer": "ipython3",
   "version": "3.9.12"
  },
  "orig_nbformat": 4,
  "vscode": {
   "interpreter": {
    "hash": "987e9dfeaf8d7b4c829123d011957fbba16576391d7d368ba4a045b7729615f6"
   }
  }
 },
 "nbformat": 4,
 "nbformat_minor": 2
}
