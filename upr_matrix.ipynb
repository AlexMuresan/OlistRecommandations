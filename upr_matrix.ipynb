{
 "cells": [
  {
   "cell_type": "code",
   "execution_count": 1,
   "metadata": {},
   "outputs": [],
   "source": [
    "import os\n",
    "\n",
    "import numpy as np\n",
    "import pandas as pd\n",
    "import seaborn as sns\n",
    "import matplotlib.pyplot as plt"
   ]
  },
  {
   "cell_type": "code",
   "execution_count": 2,
   "metadata": {},
   "outputs": [],
   "source": [
    "def generate_upr_matrix(df: pd.DataFrame, row_label: str='customer_unique_id', column_label: str = 'product_id', values_label: str = 'review_score'):\n",
    "    # creating matrix with customer_unique_id on rows and product_id on columns\n",
    "    upr_matrix = np.full((df[row_label].max() + 1, df[column_label].max() + 1), np.NaN) \n",
    "\n",
    "    # filling upr_matrix with available values\n",
    "    for _, row in df.iterrows():\n",
    "        upr_matrix[row[row_label]][row[column_label]] = row[values_label]\n",
    "\n",
    "    for idx in range(df[row_label].max()):\n",
    "        matrix_row = [idx][:]\n",
    "        upr_matrix[idx][:] = np.nan_to_num(matrix_row, (np.nanmean(matrix_row)))\n",
    "\n",
    "    return upr_matrix"
   ]
  },
  {
   "cell_type": "code",
   "execution_count": 3,
   "metadata": {},
   "outputs": [],
   "source": [
    "data_folder = '/Users/alex/Workspace/Datasets/OlistEcommercePublicDataset'\n",
    "\n",
    "orders_df = pd.read_csv(os.path.join(data_folder, 'olist_orders_dataset.csv'))\n",
    "reviews_df = pd.read_csv(os.path.join(data_folder, 'olist_order_reviews_dataset.csv'))\n",
    "products_df = pd.read_csv(os.path.join(data_folder, 'olist_products_dataset.csv'))\n",
    "order_items_df = pd.read_csv(os.path.join(data_folder, 'olist_order_items_dataset.csv'))\n",
    "customer_df = pd.read_csv(os.path.join(data_folder, 'olist_customers_dataset.csv'))\n",
    "\n",
    "dfs = [orders_df, reviews_df, products_df, order_items_df, customer_df]"
   ]
  },
  {
   "cell_type": "code",
   "execution_count": 4,
   "metadata": {},
   "outputs": [],
   "source": [
    "# Converting ID columns from 'object' type to string\n",
    "for df in dfs:\n",
    "    for column, ctype in zip(df.columns, df.dtypes):\n",
    "        if ctype == 'object':\n",
    "            df[column] = df[column].astype(\"string\")"
   ]
  },
  {
   "cell_type": "code",
   "execution_count": 5,
   "metadata": {},
   "outputs": [],
   "source": [
    "# Changing customer unique ID's from random string to integer\n",
    "customer_id_dict = customer_df['customer_unique_id'].to_dict()\n",
    "customer_id_dict_reversed = {v: k for k, v in customer_id_dict.items()}\n",
    "customer_df['customer_unique_id'] = customer_df['customer_unique_id'].map(customer_id_dict_reversed)\n",
    "unique_id_df = pd.merge(orders_df[['order_id', 'customer_id']], customer_df[['customer_id', 'customer_unique_id']], on=['customer_id'], how='inner')"
   ]
  },
  {
   "cell_type": "code",
   "execution_count": 6,
   "metadata": {},
   "outputs": [],
   "source": [
    "# Changing product unique ID's from random string to integer\n",
    "product_id_dict = order_items_df['product_id'].to_dict()\n",
    "product_id_dict_reversed = {v: k for k, v in product_id_dict.items()}\n",
    "order_items_df['product_id'] = order_items_df['product_id'].map(product_id_dict_reversed)\n",
    "product_and_order_id_df = pd.merge(orders_df[['order_id', 'customer_id']], order_items_df[['order_id', 'product_id']], on=['order_id'], how='inner')"
   ]
  },
  {
   "cell_type": "code",
   "execution_count": 7,
   "metadata": {},
   "outputs": [],
   "source": [
    "user_product_order_id_df = pd.merge(unique_id_df, product_and_order_id_df, on=['order_id', 'customer_id'], how='inner')\n",
    "final_df = pd.merge(user_product_order_id_df, reviews_df[['order_id', 'review_score']], on=['order_id'], how='inner').drop(['customer_id', 'order_id'], axis=1)"
   ]
  },
  {
   "cell_type": "code",
   "execution_count": 8,
   "metadata": {},
   "outputs": [
    {
     "name": "stdout",
     "output_type": "stream",
     "text": [
      "customer_unique_id    int32\n",
      "product_id            int32\n",
      "review_score           int8\n",
      "dtype: object\n"
     ]
    },
    {
     "data": {
      "text/html": [
       "<div>\n",
       "<style scoped>\n",
       "    .dataframe tbody tr th:only-of-type {\n",
       "        vertical-align: middle;\n",
       "    }\n",
       "\n",
       "    .dataframe tbody tr th {\n",
       "        vertical-align: top;\n",
       "    }\n",
       "\n",
       "    .dataframe thead th {\n",
       "        text-align: right;\n",
       "    }\n",
       "</style>\n",
       "<table border=\"1\" class=\"dataframe\">\n",
       "  <thead>\n",
       "    <tr style=\"text-align: right;\">\n",
       "      <th></th>\n",
       "      <th>customer_unique_id</th>\n",
       "      <th>product_id</th>\n",
       "      <th>review_score</th>\n",
       "    </tr>\n",
       "  </thead>\n",
       "  <tbody>\n",
       "    <tr>\n",
       "      <th>0</th>\n",
       "      <td>74950</td>\n",
       "      <td>100785</td>\n",
       "      <td>4</td>\n",
       "    </tr>\n",
       "    <tr>\n",
       "      <th>1</th>\n",
       "      <td>77027</td>\n",
       "      <td>111116</td>\n",
       "      <td>4</td>\n",
       "    </tr>\n",
       "    <tr>\n",
       "      <th>2</th>\n",
       "      <td>554</td>\n",
       "      <td>102176</td>\n",
       "      <td>5</td>\n",
       "    </tr>\n",
       "    <tr>\n",
       "      <th>3</th>\n",
       "      <td>61081</td>\n",
       "      <td>82240</td>\n",
       "      <td>5</td>\n",
       "    </tr>\n",
       "    <tr>\n",
       "      <th>4</th>\n",
       "      <td>67263</td>\n",
       "      <td>111751</td>\n",
       "      <td>5</td>\n",
       "    </tr>\n",
       "  </tbody>\n",
       "</table>\n",
       "</div>"
      ],
      "text/plain": [
       "   customer_unique_id  product_id  review_score\n",
       "0               74950      100785             4\n",
       "1               77027      111116             4\n",
       "2                 554      102176             5\n",
       "3               61081       82240             5\n",
       "4               67263      111751             5"
      ]
     },
     "metadata": {},
     "output_type": "display_data"
    }
   ],
   "source": [
    "final_df['customer_unique_id'] = final_df['customer_unique_id'].astype(np.int32)\n",
    "final_df['product_id'] = final_df['product_id'].astype(np.int32)\n",
    "final_df['review_score'] = final_df['review_score'].astype(np.int8)\n",
    "\n",
    "print(final_df.dtypes)\n",
    "display(final_df.head(5))"
   ]
  },
  {
   "cell_type": "code",
   "execution_count": 9,
   "metadata": {},
   "outputs": [],
   "source": [
    "# creating matrix with customer_unique_id on rows and product_id on columns\n",
    "upr_matrix = np.full((final_df['customer_unique_id'].max() + 1, final_df['product_id'].max() + 1), np.NaN) \n",
    "\n",
    "print(len(final_df['product_id'].unique()))\n",
    "print(len(final_df['customer_unique_id'].unique()))\n",
    "print(upr_matrix.shape)\n",
    "\n",
    "# filling upr_matrix with available values\n",
    "for index, row in final_df.iterrows():\n",
    "    upr_matrix[row['customer_unique_id']][row['product_id']] = row['review_score']\n",
    "\n",
    "for idx in range(final_df['customer_unique_id'].max()):\n",
    "    matrix_row = [idx][:]\n",
    "    upr_matrix[idx][:] = np.nan_to_num(matrix_row, (np.nanmean(matrix_row)))"
   ]
  },
  {
   "cell_type": "code",
   "execution_count": 10,
   "metadata": {},
   "outputs": [
    {
     "name": "stdout",
     "output_type": "stream",
     "text": [
      "353 unique ids selected\n",
      "443 entries in new dataframe\n"
     ]
    }
   ],
   "source": [
    "tmp_short_df = final_df.head(400)\n",
    "selection = tmp_short_df.customer_unique_id.unique().tolist()\n",
    "final_df_short = final_df[pd.DataFrame(final_df.customer_unique_id.tolist()).isin(selection).any(1).values]\n",
    "\n",
    "print(len(selection), \"unique ids selected\")\n",
    "print(final_df_short.shape[0], \"entries in new dataframe\")\n",
    "\n",
    "# upr_matrix_short = generate_upr_matrix(final_df_short)\n",
    "# print(upr_matrix_short.shape)"
   ]
  },
  {
   "cell_type": "code",
   "execution_count": 11,
   "metadata": {},
   "outputs": [],
   "source": [
    "# creating matrix with customer_unique_id on rows and product_id on columns\n",
    "upr_matrix_test = np.full((final_df_short['customer_unique_id'].max() + 1, final_df_short['product_id'].max() + 1), np.NaN) \n",
    "\n",
    "# filling upr_matrix with available values\n",
    "for index, row in final_df_short.iterrows():\n",
    "    upr_matrix_test[row['customer_unique_id']][row['product_id']] = row['review_score']"
   ]
  },
  {
   "cell_type": "code",
   "execution_count": 12,
   "metadata": {},
   "outputs": [
    {
     "data": {
      "text/plain": [
       "(99334, 112644)"
      ]
     },
     "execution_count": 12,
     "metadata": {},
     "output_type": "execute_result"
    }
   ],
   "source": [
    "upr_matrix_test.shape"
   ]
  },
  {
   "cell_type": "code",
   "execution_count": 13,
   "metadata": {},
   "outputs": [
    {
     "data": {
      "text/plain": [
       "3"
      ]
     },
     "execution_count": 13,
     "metadata": {},
     "output_type": "execute_result"
    }
   ],
   "source": [
    "print(final_df_short)\n",
    "final_df_short.shape[1]"
   ]
  },
  {
   "cell_type": "code",
   "execution_count": null,
   "metadata": {},
   "outputs": [],
   "source": []
  }
 ],
 "metadata": {
  "interpreter": {
   "hash": "987e9dfeaf8d7b4c829123d011957fbba16576391d7d368ba4a045b7729615f6"
  },
  "kernelspec": {
   "display_name": "Python 3.9.12 ('advanced')",
   "language": "python",
   "name": "python3"
  },
  "language_info": {
   "codemirror_mode": {
    "name": "ipython",
    "version": 3
   },
   "file_extension": ".py",
   "mimetype": "text/x-python",
   "name": "python",
   "nbconvert_exporter": "python",
   "pygments_lexer": "ipython3",
   "version": "3.9.12"
  },
  "orig_nbformat": 4
 },
 "nbformat": 4,
 "nbformat_minor": 2
}
