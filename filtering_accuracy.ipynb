{
 "cells": [
  {
   "cell_type": "code",
   "execution_count": 1,
   "metadata": {},
   "outputs": [],
   "source": [
    "import os\n",
    "\n",
    "import pandas as pd\n",
    "\n",
    "from IPython.display import display, Markdown\n",
    "from recommender import RecommendationEngine\n",
    "from utils import *\n"
   ]
  },
  {
   "cell_type": "code",
   "execution_count": 11,
   "metadata": {},
   "outputs": [],
   "source": [
    "def count_good_recommendations(bought_items, recommendation, cluster_recommendations):\n",
    "    # This function counts how many of the recommended product categories are similar\n",
    "    # to the bought product categories\n",
    "    cluster_counter = 0\n",
    "    reco_counter = 0\n",
    "\n",
    "    # This is a failsafe since clustering doesn't always return recommendations.\n",
    "    if len(recommendation) > 0:\n",
    "        for cat in recommendation:\n",
    "            if cat in bought_items:\n",
    "                reco_counter += 1\n",
    "\n",
    "    if len(cluster_recommendations) > 0:\n",
    "        for cat in cluster_recommendations:\n",
    "            if cat in bought_items:\n",
    "                cluster_counter += 1\n",
    "\n",
    "    return reco_counter, cluster_counter\n"
   ]
  },
  {
   "cell_type": "code",
   "execution_count": 2,
   "metadata": {},
   "outputs": [],
   "source": [
    "# Loading necessary csvs into Pandas\n",
    "data_folder = \"/Users/alex/Workspace/Datasets/OlistEcommercePublicDataset\"\n",
    "\n",
    "df_names = [\n",
    "    \"orders_df\",\n",
    "    \"reviews_df\",\n",
    "    \"products_df\",\n",
    "    \"order_items_df\",\n",
    "    \"customer_df\",\n",
    "    \"cat_name_translation\",\n",
    "]\n",
    "df_files = [\n",
    "    \"olist_orders_dataset.csv\",\n",
    "    \"olist_order_reviews_dataset.csv\",\n",
    "    \"olist_products_dataset.csv\",\n",
    "    \"olist_order_items_dataset.csv\",\n",
    "    \"olist_customers_dataset.csv\",\n",
    "    \"product_category_name_translation.csv\",\n",
    "]\n",
    "\n",
    "# Loading dataframes\n",
    "dataframes = preprocess_dataframes(read_dataframes(df_names, df_files, data_folder))\n",
    "\n",
    "# Filtering final dataframe by most active users and bought items\n",
    "final_df = filter_dataframe(\n",
    "    join_dataframes(dataframes), item_number=500, user_number=1000\n",
    ")\n",
    "\n",
    "# Loading translation dictionary [Portugues -> English]\n",
    "translate_dict = get_translation_dict(dataframes[\"cat_name_translation\"])\n",
    "\n",
    "# Initializing our custom recommendation engine\n",
    "recommendationengine = RecommendationEngine(\n",
    "    final_df, dataframes[\"products_df\"], dataframes[\"order_items_df\"], translate_dict\n",
    ")\n"
   ]
  },
  {
   "cell_type": "code",
   "execution_count": 13,
   "metadata": {},
   "outputs": [
    {
     "name": "stdout",
     "output_type": "stream",
     "text": [
      "No cluster good recommendations: 88 out of 1998 recommendations\n",
      "Clustered good recommendations: 601 out of 1009 recommendations\n"
     ]
    }
   ],
   "source": [
    "# NOTE: 'normal' means recommendations without clustering\n",
    "good_cluster_reco = 0\n",
    "good_normal_reco = 0\n",
    "\n",
    "total_cluster_reco = 0\n",
    "total_normal_reco = 0\n",
    "\n",
    "for customer_idx in range(0, 999):\n",
    "    bought_items_list = recommendationengine.get_bought_items(\n",
    "        customer_idx=customer_idx, nr_of_items=2\n",
    "    )[\"product_category_name\"].to_list()\n",
    "    no_cluster_reco = recommendationengine.get_recommendation(\n",
    "        customer_idx=customer_idx, nr_of_items=2\n",
    "    )[\"product_category_name\"].to_list()\n",
    "    cluster_reco = recommendationengine.get_recommendation(\n",
    "        customer_idx=customer_idx, nr_of_items=2, cluster=True\n",
    "    )[\"product_category_name\"].to_list()\n",
    "\n",
    "    a, b = count_good_recommendations(bought_items_list, no_cluster_reco, cluster_reco)\n",
    "\n",
    "    good_normal_reco += a\n",
    "    good_cluster_reco += b\n",
    "\n",
    "    total_normal_reco += len(no_cluster_reco)\n",
    "    total_cluster_reco += len(cluster_reco)\n",
    "\n",
    "print(\n",
    "    f\"No cluster good recommendations: {good_normal_reco} out of {total_normal_reco} recommendations\"\n",
    ")\n",
    "print(\n",
    "    f\"Clustered good recommendations: {good_cluster_reco} out of {total_cluster_reco} recommendations\"\n",
    ")\n"
   ]
  }
 ],
 "metadata": {
  "kernelspec": {
   "display_name": "Python 3.9.12 ('advanced')",
   "language": "python",
   "name": "python3"
  },
  "language_info": {
   "codemirror_mode": {
    "name": "ipython",
    "version": 3
   },
   "file_extension": ".py",
   "mimetype": "text/x-python",
   "name": "python",
   "nbconvert_exporter": "python",
   "pygments_lexer": "ipython3",
   "version": "3.9.12"
  },
  "orig_nbformat": 4,
  "vscode": {
   "interpreter": {
    "hash": "987e9dfeaf8d7b4c829123d011957fbba16576391d7d368ba4a045b7729615f6"
   }
  }
 },
 "nbformat": 4,
 "nbformat_minor": 2
}
