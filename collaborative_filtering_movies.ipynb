{
 "cells": [
  {
   "cell_type": "code",
   "execution_count": 1,
   "metadata": {},
   "outputs": [],
   "source": [
    "import os\n",
    "\n",
    "import numpy as np\n",
    "import pandas as pd\n",
    "\n",
    "from IPython.display import display, Markdown\n",
    "from recommender import RecommendationEngine\n",
    "from utils import *\n",
    "\n",
    "from sklearn.metrics.pairwise import cosine_similarity"
   ]
  },
  {
   "cell_type": "code",
   "execution_count": 2,
   "metadata": {},
   "outputs": [
    {
     "data": {
      "text/html": [
       "<div>\n",
       "<style scoped>\n",
       "    .dataframe tbody tr th:only-of-type {\n",
       "        vertical-align: middle;\n",
       "    }\n",
       "\n",
       "    .dataframe tbody tr th {\n",
       "        vertical-align: top;\n",
       "    }\n",
       "\n",
       "    .dataframe thead th {\n",
       "        text-align: right;\n",
       "    }\n",
       "</style>\n",
       "<table border=\"1\" class=\"dataframe\">\n",
       "  <thead>\n",
       "    <tr style=\"text-align: right;\">\n",
       "      <th></th>\n",
       "      <th>2001: A Space Odyssey</th>\n",
       "      <th>Fargo</th>\n",
       "      <th>Sense and Sensibility</th>\n",
       "      <th>Lord of the Rings</th>\n",
       "    </tr>\n",
       "    <tr>\n",
       "      <th>Name</th>\n",
       "      <th></th>\n",
       "      <th></th>\n",
       "      <th></th>\n",
       "      <th></th>\n",
       "    </tr>\n",
       "  </thead>\n",
       "  <tbody>\n",
       "    <tr>\n",
       "      <th>Julie</th>\n",
       "      <td>4.0</td>\n",
       "      <td>5.0</td>\n",
       "      <td>2.0</td>\n",
       "      <td>NaN</td>\n",
       "    </tr>\n",
       "    <tr>\n",
       "      <th>Sal</th>\n",
       "      <td>1.0</td>\n",
       "      <td>2.0</td>\n",
       "      <td>5.0</td>\n",
       "      <td>3.0</td>\n",
       "    </tr>\n",
       "    <tr>\n",
       "      <th>Matthew</th>\n",
       "      <td>4.0</td>\n",
       "      <td>4.0</td>\n",
       "      <td>2.0</td>\n",
       "      <td>5.0</td>\n",
       "    </tr>\n",
       "  </tbody>\n",
       "</table>\n",
       "</div>"
      ],
      "text/plain": [
       "         2001: A Space Odyssey  Fargo  Sense and Sensibility  \\\n",
       "Name                                                           \n",
       "Julie                      4.0    5.0                    2.0   \n",
       "Sal                        1.0    2.0                    5.0   \n",
       "Matthew                    4.0    4.0                    2.0   \n",
       "\n",
       "         Lord of the Rings  \n",
       "Name                        \n",
       "Julie                  NaN  \n",
       "Sal                    3.0  \n",
       "Matthew                5.0  "
      ]
     },
     "metadata": {},
     "output_type": "display_data"
    }
   ],
   "source": [
    "movie_df = pd.DataFrame(\n",
    "    [\n",
    "        [\"Julie\", 4., 5., 2.],\n",
    "        [\"Sal\", 1., 2., 5., 3.],\n",
    "        [\"Matthew\", 4., 4., 2., 5.],\n",
    "    ],\n",
    "    columns=[\"Name\", \"2001: A Space Odyssey\", \"Fargo\", \"Sense and Sensibility\", \"Lord of the Rings\"],\n",
    ")\n",
    "\n",
    "movie_df = movie_df.set_index(\"Name\")\n",
    "display(movie_df)"
   ]
  },
  {
   "cell_type": "code",
   "execution_count": 5,
   "metadata": {},
   "outputs": [
    {
     "data": {
      "text/plain": [
       "array([[1.        , 0.73808313, 0.98360656],\n",
       "       [0.73808313, 1.        , 0.75858544],\n",
       "       [0.98360656, 0.75858544, 1.        ]])"
      ]
     },
     "metadata": {},
     "output_type": "display_data"
    },
    {
     "data": {
      "text/plain": [
       "[1.0, 0.7380831312942567, 0.9836065573770493]"
      ]
     },
     "metadata": {},
     "output_type": "display_data"
    },
    {
     "data": {
      "text/plain": [
       "Lord of the Rings    4.0\n",
       "dtype: float64"
      ]
     },
     "metadata": {},
     "output_type": "display_data"
    }
   ],
   "source": [
    "# Julie's user index\n",
    "user_index = 0\n",
    "\n",
    "item_matrix = movie_df.values\n",
    "imputed_matrix = movie_df.fillna(movie_df.mean(axis=0))\n",
    "\n",
    "similarity_matrix = cosine_similarity(imputed_matrix)\n",
    "display(similarity_matrix)\n",
    "similarity_scores = list(enumerate(similarity_matrix[user_index]))\n",
    "\n",
    "unrated_products = movie_df.iloc[user_index][movie_df.iloc[user_index].isna()].index\n",
    "weights = [x[1] for x in similarity_scores]\n",
    "display(weights)\n",
    "\n",
    "inferred_ratings = (movie_df[unrated_products].T * weights).T\n",
    "# inferred_ratings = inferred_ratings.iloc[[x[0] for x in similarity_scores if x[1] > 0.8]].mean()\n",
    "inferred_ratings = inferred_ratings.iloc[[x[0] for x in similarity_scores]].mean()\n",
    "\n",
    "display(round(inferred_ratings))"
   ]
  },
  {
   "cell_type": "code",
   "execution_count": 6,
   "metadata": {},
   "outputs": [
    {
     "data": {
      "text/html": [
       "<div>\n",
       "<style scoped>\n",
       "    .dataframe tbody tr th:only-of-type {\n",
       "        vertical-align: middle;\n",
       "    }\n",
       "\n",
       "    .dataframe tbody tr th {\n",
       "        vertical-align: top;\n",
       "    }\n",
       "\n",
       "    .dataframe thead th {\n",
       "        text-align: right;\n",
       "    }\n",
       "</style>\n",
       "<table border=\"1\" class=\"dataframe\">\n",
       "  <thead>\n",
       "    <tr style=\"text-align: right;\">\n",
       "      <th></th>\n",
       "      <th>Julie</th>\n",
       "      <th>Sal</th>\n",
       "      <th>Matthew</th>\n",
       "    </tr>\n",
       "  </thead>\n",
       "  <tbody>\n",
       "    <tr>\n",
       "      <th>Julie</th>\n",
       "      <td>1.000000</td>\n",
       "      <td>0.738083</td>\n",
       "      <td>0.983607</td>\n",
       "    </tr>\n",
       "    <tr>\n",
       "      <th>Sal</th>\n",
       "      <td>0.738083</td>\n",
       "      <td>1.000000</td>\n",
       "      <td>0.758585</td>\n",
       "    </tr>\n",
       "    <tr>\n",
       "      <th>Matthew</th>\n",
       "      <td>0.983607</td>\n",
       "      <td>0.758585</td>\n",
       "      <td>1.000000</td>\n",
       "    </tr>\n",
       "  </tbody>\n",
       "</table>\n",
       "</div>"
      ],
      "text/plain": [
       "            Julie       Sal   Matthew\n",
       "Julie    1.000000  0.738083  0.983607\n",
       "Sal      0.738083  1.000000  0.758585\n",
       "Matthew  0.983607  0.758585  1.000000"
      ]
     },
     "metadata": {},
     "output_type": "display_data"
    }
   ],
   "source": [
    "sim_df = pd.DataFrame(similarity_matrix, \n",
    "             columns=['Julie', 'Sal', 'Matthew'], \n",
    "             index=['Julie', 'Sal', 'Matthew'])\n",
    "display(sim_df)"
   ]
  },
  {
   "cell_type": "code",
   "execution_count": 7,
   "metadata": {},
   "outputs": [
    {
     "data": {
      "text/html": [
       "<div>\n",
       "<style scoped>\n",
       "    .dataframe tbody tr th:only-of-type {\n",
       "        vertical-align: middle;\n",
       "    }\n",
       "\n",
       "    .dataframe tbody tr th {\n",
       "        vertical-align: top;\n",
       "    }\n",
       "\n",
       "    .dataframe thead th {\n",
       "        text-align: right;\n",
       "    }\n",
       "</style>\n",
       "<table border=\"1\" class=\"dataframe\">\n",
       "  <thead>\n",
       "    <tr style=\"text-align: right;\">\n",
       "      <th></th>\n",
       "      <th>Sal</th>\n",
       "      <th>Matthew</th>\n",
       "    </tr>\n",
       "  </thead>\n",
       "  <tbody>\n",
       "    <tr>\n",
       "      <th>0</th>\n",
       "      <td>0.738083</td>\n",
       "      <td>0.983607</td>\n",
       "    </tr>\n",
       "  </tbody>\n",
       "</table>\n",
       "</div>"
      ],
      "text/plain": [
       "        Sal   Matthew\n",
       "0  0.738083  0.983607"
      ]
     },
     "metadata": {},
     "output_type": "display_data"
    },
    {
     "data": {
      "text/html": [
       "<div>\n",
       "<style scoped>\n",
       "    .dataframe tbody tr th:only-of-type {\n",
       "        vertical-align: middle;\n",
       "    }\n",
       "\n",
       "    .dataframe tbody tr th {\n",
       "        vertical-align: top;\n",
       "    }\n",
       "\n",
       "    .dataframe thead th {\n",
       "        text-align: right;\n",
       "    }\n",
       "</style>\n",
       "<table border=\"1\" class=\"dataframe\">\n",
       "  <thead>\n",
       "    <tr style=\"text-align: right;\">\n",
       "      <th>Name</th>\n",
       "      <th>Sal</th>\n",
       "      <th>Matthew</th>\n",
       "    </tr>\n",
       "  </thead>\n",
       "  <tbody>\n",
       "    <tr>\n",
       "      <th>Lord of the Rings</th>\n",
       "      <td>3.0</td>\n",
       "      <td>5.0</td>\n",
       "    </tr>\n",
       "  </tbody>\n",
       "</table>\n",
       "</div>"
      ],
      "text/plain": [
       "Name               Sal  Matthew\n",
       "Lord of the Rings  3.0      5.0"
      ]
     },
     "metadata": {},
     "output_type": "display_data"
    },
    {
     "data": {
      "text/html": [
       "<div>\n",
       "<style scoped>\n",
       "    .dataframe tbody tr th:only-of-type {\n",
       "        vertical-align: middle;\n",
       "    }\n",
       "\n",
       "    .dataframe tbody tr th {\n",
       "        vertical-align: top;\n",
       "    }\n",
       "\n",
       "    .dataframe thead th {\n",
       "        text-align: right;\n",
       "    }\n",
       "</style>\n",
       "<table border=\"1\" class=\"dataframe\">\n",
       "  <thead>\n",
       "    <tr style=\"text-align: right;\">\n",
       "      <th></th>\n",
       "      <th>Weighted Sal Score</th>\n",
       "      <th>Weighted Matthew Score</th>\n",
       "    </tr>\n",
       "  </thead>\n",
       "  <tbody>\n",
       "    <tr>\n",
       "      <th>Lord of the Rings</th>\n",
       "      <td>2.214249</td>\n",
       "      <td>4.918033</td>\n",
       "    </tr>\n",
       "  </tbody>\n",
       "</table>\n",
       "</div>"
      ],
      "text/plain": [
       "                   Weighted Sal Score  Weighted Matthew Score\n",
       "Lord of the Rings            2.214249                4.918033"
      ]
     },
     "metadata": {},
     "output_type": "display_data"
    }
   ],
   "source": [
    "x = pd.DataFrame(sim_df[['Julie']].transpose()).drop('Julie', axis=1).reset_index(drop=True)\n",
    "display(x)\n",
    "\n",
    "y = movie_df[unrated_products].T.drop('Julie', axis=1)\n",
    "display(y)\n",
    "\n",
    "z = pd.DataFrame(x.values * y.values, columns=['Weighted Sal Score', 'Weighted Matthew Score'], index=['Lord of the Rings'])\n",
    "display(z)"
   ]
  },
  {
   "cell_type": "code",
   "execution_count": 8,
   "metadata": {},
   "outputs": [
    {
     "data": {
      "text/html": [
       "<div>\n",
       "<style scoped>\n",
       "    .dataframe tbody tr th:only-of-type {\n",
       "        vertical-align: middle;\n",
       "    }\n",
       "\n",
       "    .dataframe tbody tr th {\n",
       "        vertical-align: top;\n",
       "    }\n",
       "\n",
       "    .dataframe thead th {\n",
       "        text-align: right;\n",
       "    }\n",
       "</style>\n",
       "<table border=\"1\" class=\"dataframe\">\n",
       "  <thead>\n",
       "    <tr style=\"text-align: right;\">\n",
       "      <th></th>\n",
       "      <th>Julie</th>\n",
       "    </tr>\n",
       "  </thead>\n",
       "  <tbody>\n",
       "    <tr>\n",
       "      <th>Lord of the Rings</th>\n",
       "      <td>3.566141</td>\n",
       "    </tr>\n",
       "  </tbody>\n",
       "</table>\n",
       "</div>"
      ],
      "text/plain": [
       "                      Julie\n",
       "Lord of the Rings  3.566141"
      ]
     },
     "execution_count": 8,
     "metadata": {},
     "output_type": "execute_result"
    }
   ],
   "source": [
    "pd.DataFrame(inferred_ratings, columns=['Julie'])"
   ]
  },
  {
   "cell_type": "code",
   "execution_count": null,
   "metadata": {},
   "outputs": [],
   "source": []
  }
 ],
 "metadata": {
  "kernelspec": {
   "display_name": "Python 3.9.12 ('advanced')",
   "language": "python",
   "name": "python3"
  },
  "language_info": {
   "codemirror_mode": {
    "name": "ipython",
    "version": 3
   },
   "file_extension": ".py",
   "mimetype": "text/x-python",
   "name": "python",
   "nbconvert_exporter": "python",
   "pygments_lexer": "ipython3",
   "version": "3.9.12"
  },
  "orig_nbformat": 4,
  "vscode": {
   "interpreter": {
    "hash": "987e9dfeaf8d7b4c829123d011957fbba16576391d7d368ba4a045b7729615f6"
   }
  }
 },
 "nbformat": 4,
 "nbformat_minor": 2
}
