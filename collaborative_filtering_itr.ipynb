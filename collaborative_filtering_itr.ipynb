{
 "cells": [
  {
   "cell_type": "code",
   "execution_count": 1,
   "metadata": {},
   "outputs": [],
   "source": [
    "import os\n",
    "\n",
    "import pandas as pd\n",
    "\n",
    "from IPython.display import display, Markdown\n",
    "from recommender import RecommendationEngine\n",
    "from utils import *\n"
   ]
  },
  {
   "cell_type": "code",
   "execution_count": 2,
   "metadata": {},
   "outputs": [],
   "source": [
    "# Loading necessary csvs into Pandas\n",
    "data_folder = \"/Users/alex/Workspace/Datasets/OlistEcommercePublicDataset\"\n",
    "\n",
    "df_names = [\n",
    "    \"orders_df\",\n",
    "    \"reviews_df\",\n",
    "    \"products_df\",\n",
    "    \"order_items_df\",\n",
    "    \"customer_df\",\n",
    "    \"cat_name_translation\",\n",
    "]\n",
    "df_files = [\n",
    "    \"olist_orders_dataset.csv\",\n",
    "    \"olist_order_reviews_dataset.csv\",\n",
    "    \"olist_products_dataset.csv\",\n",
    "    \"olist_order_items_dataset.csv\",\n",
    "    \"olist_customers_dataset.csv\",\n",
    "    \"product_category_name_translation.csv\",\n",
    "]\n",
    "\n",
    "# Loading dataframes\n",
    "dataframes = preprocess_dataframes(read_dataframes(df_names, df_files, data_folder))\n",
    "\n",
    "# Filtering final dataframe by most active users and bought items\n",
    "final_df = filter_dataframe(\n",
    "    join_dataframes(dataframes), item_number=500, user_number=1000\n",
    ")\n",
    "\n",
    "# Loading translation dictionary [Portugues -> English]\n",
    "translate_dict = get_translation_dict(dataframes[\"cat_name_translation\"])\n",
    "\n",
    "# Initializing our custom recommendation engine\n",
    "recommendationengine = RecommendationEngine(\n",
    "    final_df, dataframes[\"products_df\"], dataframes[\"order_items_df\"], translate_dict, sim_method='itr'\n",
    ")\n"
   ]
  },
  {
   "cell_type": "code",
   "execution_count": 3,
   "metadata": {},
   "outputs": [
    {
     "data": {
      "text/markdown": [
       "### Bought Items"
      ],
      "text/plain": [
       "<IPython.core.display.Markdown object>"
      ]
     },
     "metadata": {},
     "output_type": "display_data"
    },
    {
     "data": {
      "text/html": [
       "<div>\n",
       "<style scoped>\n",
       "    .dataframe tbody tr th:only-of-type {\n",
       "        vertical-align: middle;\n",
       "    }\n",
       "\n",
       "    .dataframe tbody tr th {\n",
       "        vertical-align: top;\n",
       "    }\n",
       "\n",
       "    .dataframe thead th {\n",
       "        text-align: right;\n",
       "    }\n",
       "</style>\n",
       "<table border=\"1\" class=\"dataframe\">\n",
       "  <thead>\n",
       "    <tr style=\"text-align: right;\">\n",
       "      <th></th>\n",
       "      <th>product_id</th>\n",
       "      <th>rating</th>\n",
       "      <th>product_category_name</th>\n",
       "      <th>price</th>\n",
       "    </tr>\n",
       "  </thead>\n",
       "  <tbody>\n",
       "    <tr>\n",
       "      <th>0</th>\n",
       "      <td>368c6c730842d78016ad823897a372db</td>\n",
       "      <td>5.0</td>\n",
       "      <td>garden_tools</td>\n",
       "      <td>49.9</td>\n",
       "    </tr>\n",
       "  </tbody>\n",
       "</table>\n",
       "</div>"
      ],
      "text/plain": [
       "                         product_id  rating product_category_name  price\n",
       "0  368c6c730842d78016ad823897a372db     5.0          garden_tools   49.9"
      ]
     },
     "metadata": {},
     "output_type": "display_data"
    },
    {
     "data": {
      "text/markdown": [
       "### Recommendation - Without clustering"
      ],
      "text/plain": [
       "<IPython.core.display.Markdown object>"
      ]
     },
     "metadata": {},
     "output_type": "display_data"
    },
    {
     "data": {
      "text/html": [
       "<div>\n",
       "<style scoped>\n",
       "    .dataframe tbody tr th:only-of-type {\n",
       "        vertical-align: middle;\n",
       "    }\n",
       "\n",
       "    .dataframe tbody tr th {\n",
       "        vertical-align: top;\n",
       "    }\n",
       "\n",
       "    .dataframe thead th {\n",
       "        text-align: right;\n",
       "    }\n",
       "</style>\n",
       "<table border=\"1\" class=\"dataframe\">\n",
       "  <thead>\n",
       "    <tr style=\"text-align: right;\">\n",
       "      <th></th>\n",
       "      <th>product_id</th>\n",
       "      <th>product_category_name</th>\n",
       "      <th>score</th>\n",
       "      <th>price</th>\n",
       "    </tr>\n",
       "  </thead>\n",
       "  <tbody>\n",
       "    <tr>\n",
       "      <th>0</th>\n",
       "      <td>349ce46a0e2e20054aa9d80c48af8816</td>\n",
       "      <td>construction_tools_lights</td>\n",
       "      <td>5.000000</td>\n",
       "      <td>150.470238</td>\n",
       "    </tr>\n",
       "    <tr>\n",
       "      <th>1</th>\n",
       "      <td>6a2909ac21d16b721e4795e7e8ff3e68</td>\n",
       "      <td>sports_leisure</td>\n",
       "      <td>4.933756</td>\n",
       "      <td>24.203103</td>\n",
       "    </tr>\n",
       "  </tbody>\n",
       "</table>\n",
       "</div>"
      ],
      "text/plain": [
       "                         product_id      product_category_name     score  \\\n",
       "0  349ce46a0e2e20054aa9d80c48af8816  construction_tools_lights  5.000000   \n",
       "1  6a2909ac21d16b721e4795e7e8ff3e68             sports_leisure  4.933756   \n",
       "\n",
       "        price  \n",
       "0  150.470238  \n",
       "1   24.203103  "
      ]
     },
     "metadata": {},
     "output_type": "display_data"
    },
    {
     "data": {
      "text/markdown": [
       "### Recommendation - With clustering"
      ],
      "text/plain": [
       "<IPython.core.display.Markdown object>"
      ]
     },
     "metadata": {},
     "output_type": "display_data"
    },
    {
     "data": {
      "text/html": [
       "<div>\n",
       "<style scoped>\n",
       "    .dataframe tbody tr th:only-of-type {\n",
       "        vertical-align: middle;\n",
       "    }\n",
       "\n",
       "    .dataframe tbody tr th {\n",
       "        vertical-align: top;\n",
       "    }\n",
       "\n",
       "    .dataframe thead th {\n",
       "        text-align: right;\n",
       "    }\n",
       "</style>\n",
       "<table border=\"1\" class=\"dataframe\">\n",
       "  <thead>\n",
       "    <tr style=\"text-align: right;\">\n",
       "      <th></th>\n",
       "      <th>product_id</th>\n",
       "      <th>product_category_name</th>\n",
       "      <th>score</th>\n",
       "      <th>price</th>\n",
       "    </tr>\n",
       "  </thead>\n",
       "  <tbody>\n",
       "    <tr>\n",
       "      <th>0</th>\n",
       "      <td>349ce46a0e2e20054aa9d80c48af8816</td>\n",
       "      <td>construction_tools_lights</td>\n",
       "      <td>5.000000</td>\n",
       "      <td>150.470238</td>\n",
       "    </tr>\n",
       "    <tr>\n",
       "      <th>1</th>\n",
       "      <td>389d119b48cf3043d311335e499d9c6b</td>\n",
       "      <td>garden_tools</td>\n",
       "      <td>4.765495</td>\n",
       "      <td>54.695383</td>\n",
       "    </tr>\n",
       "  </tbody>\n",
       "</table>\n",
       "</div>"
      ],
      "text/plain": [
       "                         product_id      product_category_name     score  \\\n",
       "0  349ce46a0e2e20054aa9d80c48af8816  construction_tools_lights  5.000000   \n",
       "1  389d119b48cf3043d311335e499d9c6b               garden_tools  4.765495   \n",
       "\n",
       "        price  \n",
       "0  150.470238  \n",
       "1   54.695383  "
      ]
     },
     "metadata": {},
     "output_type": "display_data"
    }
   ],
   "source": [
    "customer_idx = 0\n",
    "\n",
    "display(Markdown(\"### Bought Items\"))\n",
    "bought_items = recommendationengine.get_bought_items(\n",
    "    customer_idx=customer_idx, nr_of_items=2\n",
    ")\n",
    "display(bought_items)\n",
    "\n",
    "recco_1, user_id = recommendationengine.get_recommendation(\n",
    "    customer_idx=customer_idx, nr_of_items=2\n",
    ")\n",
    "display(Markdown(\"### Recommendation - Without clustering\"))\n",
    "display(recco_1)\n",
    "\n",
    "recco_2, user_id = recommendationengine.get_recommendation(\n",
    "    customer_idx=customer_idx, nr_of_items=2, cluster=True\n",
    ")\n",
    "display(Markdown(\"### Recommendation - With clustering\"))\n",
    "display(recco_2)\n"
   ]
  },
  {
   "cell_type": "code",
   "execution_count": 4,
   "metadata": {},
   "outputs": [
    {
     "data": {
      "text/markdown": [
       "### Bought Items"
      ],
      "text/plain": [
       "<IPython.core.display.Markdown object>"
      ]
     },
     "metadata": {},
     "output_type": "display_data"
    },
    {
     "data": {
      "text/html": [
       "<div>\n",
       "<style scoped>\n",
       "    .dataframe tbody tr th:only-of-type {\n",
       "        vertical-align: middle;\n",
       "    }\n",
       "\n",
       "    .dataframe tbody tr th {\n",
       "        vertical-align: top;\n",
       "    }\n",
       "\n",
       "    .dataframe thead th {\n",
       "        text-align: right;\n",
       "    }\n",
       "</style>\n",
       "<table border=\"1\" class=\"dataframe\">\n",
       "  <thead>\n",
       "    <tr style=\"text-align: right;\">\n",
       "      <th></th>\n",
       "      <th>product_id</th>\n",
       "      <th>rating</th>\n",
       "      <th>product_category_name</th>\n",
       "      <th>price</th>\n",
       "    </tr>\n",
       "  </thead>\n",
       "  <tbody>\n",
       "    <tr>\n",
       "      <th>0</th>\n",
       "      <td>368c6c730842d78016ad823897a372db</td>\n",
       "      <td>5.0</td>\n",
       "      <td>garden_tools</td>\n",
       "      <td>49.9</td>\n",
       "    </tr>\n",
       "    <tr>\n",
       "      <th>1</th>\n",
       "      <td>389d119b48cf3043d311335e499d9c6b</td>\n",
       "      <td>5.0</td>\n",
       "      <td>garden_tools</td>\n",
       "      <td>49.9</td>\n",
       "    </tr>\n",
       "  </tbody>\n",
       "</table>\n",
       "</div>"
      ],
      "text/plain": [
       "                         product_id  rating product_category_name  price\n",
       "0  368c6c730842d78016ad823897a372db     5.0          garden_tools   49.9\n",
       "1  389d119b48cf3043d311335e499d9c6b     5.0          garden_tools   49.9"
      ]
     },
     "metadata": {},
     "output_type": "display_data"
    },
    {
     "data": {
      "text/markdown": [
       "### Recommendation - Without clustering"
      ],
      "text/plain": [
       "<IPython.core.display.Markdown object>"
      ]
     },
     "metadata": {},
     "output_type": "display_data"
    },
    {
     "data": {
      "text/html": [
       "<div>\n",
       "<style scoped>\n",
       "    .dataframe tbody tr th:only-of-type {\n",
       "        vertical-align: middle;\n",
       "    }\n",
       "\n",
       "    .dataframe tbody tr th {\n",
       "        vertical-align: top;\n",
       "    }\n",
       "\n",
       "    .dataframe thead th {\n",
       "        text-align: right;\n",
       "    }\n",
       "</style>\n",
       "<table border=\"1\" class=\"dataframe\">\n",
       "  <thead>\n",
       "    <tr style=\"text-align: right;\">\n",
       "      <th></th>\n",
       "      <th>product_id</th>\n",
       "      <th>product_category_name</th>\n",
       "      <th>score</th>\n",
       "      <th>price</th>\n",
       "    </tr>\n",
       "  </thead>\n",
       "  <tbody>\n",
       "    <tr>\n",
       "      <th>0</th>\n",
       "      <td>b38b25d838ae0b8385e8cc68b9017644</td>\n",
       "      <td>health_beauty</td>\n",
       "      <td>4.933821</td>\n",
       "      <td>160.28125</td>\n",
       "    </tr>\n",
       "    <tr>\n",
       "      <th>1</th>\n",
       "      <td>fe6a9515d655fa7936b8a7c841039f34</td>\n",
       "      <td>cool_stuff</td>\n",
       "      <td>4.923660</td>\n",
       "      <td>250.40000</td>\n",
       "    </tr>\n",
       "  </tbody>\n",
       "</table>\n",
       "</div>"
      ],
      "text/plain": [
       "                         product_id product_category_name     score      price\n",
       "0  b38b25d838ae0b8385e8cc68b9017644         health_beauty  4.933821  160.28125\n",
       "1  fe6a9515d655fa7936b8a7c841039f34            cool_stuff  4.923660  250.40000"
      ]
     },
     "metadata": {},
     "output_type": "display_data"
    },
    {
     "data": {
      "text/markdown": [
       "### Recommendation - With clustering"
      ],
      "text/plain": [
       "<IPython.core.display.Markdown object>"
      ]
     },
     "metadata": {},
     "output_type": "display_data"
    },
    {
     "data": {
      "text/html": [
       "<div>\n",
       "<style scoped>\n",
       "    .dataframe tbody tr th:only-of-type {\n",
       "        vertical-align: middle;\n",
       "    }\n",
       "\n",
       "    .dataframe tbody tr th {\n",
       "        vertical-align: top;\n",
       "    }\n",
       "\n",
       "    .dataframe thead th {\n",
       "        text-align: right;\n",
       "    }\n",
       "</style>\n",
       "<table border=\"1\" class=\"dataframe\">\n",
       "  <thead>\n",
       "    <tr style=\"text-align: right;\">\n",
       "      <th></th>\n",
       "      <th>product_id</th>\n",
       "      <th>product_category_name</th>\n",
       "      <th>score</th>\n",
       "      <th>price</th>\n",
       "    </tr>\n",
       "  </thead>\n",
       "  <tbody>\n",
       "    <tr>\n",
       "      <th>0</th>\n",
       "      <td>a19b6951c75da43aad691622dd2f6abe</td>\n",
       "      <td>furniture_decor</td>\n",
       "      <td>4.630976</td>\n",
       "      <td>35.44800</td>\n",
       "    </tr>\n",
       "    <tr>\n",
       "      <th>1</th>\n",
       "      <td>b38b25d838ae0b8385e8cc68b9017644</td>\n",
       "      <td>health_beauty</td>\n",
       "      <td>4.630976</td>\n",
       "      <td>160.28125</td>\n",
       "    </tr>\n",
       "  </tbody>\n",
       "</table>\n",
       "</div>"
      ],
      "text/plain": [
       "                         product_id product_category_name     score      price\n",
       "0  a19b6951c75da43aad691622dd2f6abe       furniture_decor  4.630976   35.44800\n",
       "1  b38b25d838ae0b8385e8cc68b9017644         health_beauty  4.630976  160.28125"
      ]
     },
     "metadata": {},
     "output_type": "display_data"
    }
   ],
   "source": [
    "customer_idx = 200\n",
    "\n",
    "display(Markdown(\"### Bought Items\"))\n",
    "bought_items = recommendationengine.get_bought_items(\n",
    "    customer_idx=customer_idx, nr_of_items=2\n",
    ")\n",
    "display(bought_items)\n",
    "\n",
    "recco_1, user_id = recommendationengine.get_recommendation(\n",
    "    customer_idx=customer_idx, nr_of_items=2\n",
    ")\n",
    "display(Markdown(\"### Recommendation - Without clustering\"))\n",
    "display(recco_1)\n",
    "\n",
    "recco_2, user_id = recommendationengine.get_recommendation(\n",
    "    customer_idx=customer_idx, nr_of_items=2, cluster=True\n",
    ")\n",
    "display(Markdown(\"### Recommendation - With clustering\"))\n",
    "display(recco_2)\n"
   ]
  },
  {
   "cell_type": "code",
   "execution_count": 5,
   "metadata": {},
   "outputs": [
    {
     "data": {
      "text/markdown": [
       "### Bought Items"
      ],
      "text/plain": [
       "<IPython.core.display.Markdown object>"
      ]
     },
     "metadata": {},
     "output_type": "display_data"
    },
    {
     "data": {
      "text/html": [
       "<div>\n",
       "<style scoped>\n",
       "    .dataframe tbody tr th:only-of-type {\n",
       "        vertical-align: middle;\n",
       "    }\n",
       "\n",
       "    .dataframe tbody tr th {\n",
       "        vertical-align: top;\n",
       "    }\n",
       "\n",
       "    .dataframe thead th {\n",
       "        text-align: right;\n",
       "    }\n",
       "</style>\n",
       "<table border=\"1\" class=\"dataframe\">\n",
       "  <thead>\n",
       "    <tr style=\"text-align: right;\">\n",
       "      <th></th>\n",
       "      <th>product_id</th>\n",
       "      <th>rating</th>\n",
       "      <th>product_category_name</th>\n",
       "      <th>price</th>\n",
       "    </tr>\n",
       "  </thead>\n",
       "  <tbody>\n",
       "    <tr>\n",
       "      <th>0</th>\n",
       "      <td>36f60d45225e60c7da4558b070ce4b60</td>\n",
       "      <td>1.0</td>\n",
       "      <td>computers_accessories</td>\n",
       "      <td>88.0</td>\n",
       "    </tr>\n",
       "    <tr>\n",
       "      <th>1</th>\n",
       "      <td>e53e557d5a159f5aa2c5e995dfdf244b</td>\n",
       "      <td>1.0</td>\n",
       "      <td>computers_accessories</td>\n",
       "      <td>77.9</td>\n",
       "    </tr>\n",
       "  </tbody>\n",
       "</table>\n",
       "</div>"
      ],
      "text/plain": [
       "                         product_id  rating  product_category_name  price\n",
       "0  36f60d45225e60c7da4558b070ce4b60     1.0  computers_accessories   88.0\n",
       "1  e53e557d5a159f5aa2c5e995dfdf244b     1.0  computers_accessories   77.9"
      ]
     },
     "metadata": {},
     "output_type": "display_data"
    },
    {
     "data": {
      "text/markdown": [
       "### Recommendation - Without clustering"
      ],
      "text/plain": [
       "<IPython.core.display.Markdown object>"
      ]
     },
     "metadata": {},
     "output_type": "display_data"
    },
    {
     "data": {
      "text/html": [
       "<div>\n",
       "<style scoped>\n",
       "    .dataframe tbody tr th:only-of-type {\n",
       "        vertical-align: middle;\n",
       "    }\n",
       "\n",
       "    .dataframe tbody tr th {\n",
       "        vertical-align: top;\n",
       "    }\n",
       "\n",
       "    .dataframe thead th {\n",
       "        text-align: right;\n",
       "    }\n",
       "</style>\n",
       "<table border=\"1\" class=\"dataframe\">\n",
       "  <thead>\n",
       "    <tr style=\"text-align: right;\">\n",
       "      <th></th>\n",
       "      <th>product_id</th>\n",
       "      <th>product_category_name</th>\n",
       "      <th>score</th>\n",
       "      <th>price</th>\n",
       "    </tr>\n",
       "  </thead>\n",
       "  <tbody>\n",
       "    <tr>\n",
       "      <th>0</th>\n",
       "      <td>44fded21627553d1886d459384bbce06</td>\n",
       "      <td>electronics</td>\n",
       "      <td>4.877065</td>\n",
       "      <td>15.000000</td>\n",
       "    </tr>\n",
       "    <tr>\n",
       "      <th>1</th>\n",
       "      <td>7d854ab97c64ef9df2bbfaf332765786</td>\n",
       "      <td>cool_stuff</td>\n",
       "      <td>4.877065</td>\n",
       "      <td>61.566667</td>\n",
       "    </tr>\n",
       "  </tbody>\n",
       "</table>\n",
       "</div>"
      ],
      "text/plain": [
       "                         product_id product_category_name     score      price\n",
       "0  44fded21627553d1886d459384bbce06           electronics  4.877065  15.000000\n",
       "1  7d854ab97c64ef9df2bbfaf332765786            cool_stuff  4.877065  61.566667"
      ]
     },
     "metadata": {},
     "output_type": "display_data"
    },
    {
     "data": {
      "text/markdown": [
       "### Recommendation - With clustering"
      ],
      "text/plain": [
       "<IPython.core.display.Markdown object>"
      ]
     },
     "metadata": {},
     "output_type": "display_data"
    },
    {
     "data": {
      "text/html": [
       "<div>\n",
       "<style scoped>\n",
       "    .dataframe tbody tr th:only-of-type {\n",
       "        vertical-align: middle;\n",
       "    }\n",
       "\n",
       "    .dataframe tbody tr th {\n",
       "        vertical-align: top;\n",
       "    }\n",
       "\n",
       "    .dataframe thead th {\n",
       "        text-align: right;\n",
       "    }\n",
       "</style>\n",
       "<table border=\"1\" class=\"dataframe\">\n",
       "  <thead>\n",
       "    <tr style=\"text-align: right;\">\n",
       "      <th></th>\n",
       "      <th>product_id</th>\n",
       "      <th>product_category_name</th>\n",
       "      <th>score</th>\n",
       "      <th>price</th>\n",
       "    </tr>\n",
       "  </thead>\n",
       "  <tbody>\n",
       "    <tr>\n",
       "      <th>1</th>\n",
       "      <td>ee57070aa3b24a06fdd0e02efd2d757d</td>\n",
       "      <td>computers_accessories</td>\n",
       "      <td>2.809408</td>\n",
       "      <td>73.579600</td>\n",
       "    </tr>\n",
       "    <tr>\n",
       "      <th>0</th>\n",
       "      <td>3f14d740544f37ece8a9e7bc8349797e</td>\n",
       "      <td>computers_accessories</td>\n",
       "      <td>0.345044</td>\n",
       "      <td>84.956374</td>\n",
       "    </tr>\n",
       "  </tbody>\n",
       "</table>\n",
       "</div>"
      ],
      "text/plain": [
       "                         product_id  product_category_name     score  \\\n",
       "1  ee57070aa3b24a06fdd0e02efd2d757d  computers_accessories  2.809408   \n",
       "0  3f14d740544f37ece8a9e7bc8349797e  computers_accessories  0.345044   \n",
       "\n",
       "       price  \n",
       "1  73.579600  \n",
       "0  84.956374  "
      ]
     },
     "metadata": {},
     "output_type": "display_data"
    }
   ],
   "source": [
    "customer_idx = 630\n",
    "\n",
    "display(Markdown(\"### Bought Items\"))\n",
    "bought_items = recommendationengine.get_bought_items(\n",
    "    customer_idx=customer_idx, nr_of_items=2\n",
    ")\n",
    "display(bought_items)\n",
    "\n",
    "recco_1, user_id = recommendationengine.get_recommendation(\n",
    "    customer_idx=customer_idx, nr_of_items=2\n",
    ")\n",
    "display(Markdown(\"### Recommendation - Without clustering\"))\n",
    "display(recco_1)\n",
    "\n",
    "recco_2, user_id = recommendationengine.get_recommendation(\n",
    "    customer_idx=customer_idx, nr_of_items=2, cluster=True\n",
    ")\n",
    "display(Markdown(\"### Recommendation - With clustering\"))\n",
    "display(recco_2)\n"
   ]
  },
  {
   "cell_type": "code",
   "execution_count": 6,
   "metadata": {},
   "outputs": [
    {
     "data": {
      "text/html": [
       "<div>\n",
       "<style scoped>\n",
       "    .dataframe tbody tr th:only-of-type {\n",
       "        vertical-align: middle;\n",
       "    }\n",
       "\n",
       "    .dataframe tbody tr th {\n",
       "        vertical-align: top;\n",
       "    }\n",
       "\n",
       "    .dataframe thead th {\n",
       "        text-align: right;\n",
       "    }\n",
       "</style>\n",
       "<table border=\"1\" class=\"dataframe\">\n",
       "  <thead>\n",
       "    <tr style=\"text-align: right;\">\n",
       "      <th></th>\n",
       "      <th>product_id</th>\n",
       "      <th>product_category_name</th>\n",
       "      <th>score</th>\n",
       "      <th>price</th>\n",
       "    </tr>\n",
       "  </thead>\n",
       "  <tbody>\n",
       "    <tr>\n",
       "      <th>0</th>\n",
       "      <td>44fded21627553d1886d459384bbce06</td>\n",
       "      <td>electronics</td>\n",
       "      <td>9.754129</td>\n",
       "      <td>15.000000</td>\n",
       "    </tr>\n",
       "    <tr>\n",
       "      <th>1</th>\n",
       "      <td>7d854ab97c64ef9df2bbfaf332765786</td>\n",
       "      <td>cool_stuff</td>\n",
       "      <td>9.754129</td>\n",
       "      <td>61.566667</td>\n",
       "    </tr>\n",
       "  </tbody>\n",
       "</table>\n",
       "</div>"
      ],
      "text/plain": [
       "                         product_id product_category_name     score      price\n",
       "0  44fded21627553d1886d459384bbce06           electronics  9.754129  15.000000\n",
       "1  7d854ab97c64ef9df2bbfaf332765786            cool_stuff  9.754129  61.566667"
      ]
     },
     "metadata": {},
     "output_type": "display_data"
    },
    {
     "data": {
      "text/html": [
       "<div>\n",
       "<style scoped>\n",
       "    .dataframe tbody tr th:only-of-type {\n",
       "        vertical-align: middle;\n",
       "    }\n",
       "\n",
       "    .dataframe tbody tr th {\n",
       "        vertical-align: top;\n",
       "    }\n",
       "\n",
       "    .dataframe thead th {\n",
       "        text-align: right;\n",
       "    }\n",
       "</style>\n",
       "<table border=\"1\" class=\"dataframe\">\n",
       "  <thead>\n",
       "    <tr style=\"text-align: right;\">\n",
       "      <th></th>\n",
       "      <th>product_id</th>\n",
       "      <th>product_category_name</th>\n",
       "      <th>score</th>\n",
       "      <th>price</th>\n",
       "    </tr>\n",
       "  </thead>\n",
       "  <tbody>\n",
       "    <tr>\n",
       "      <th>1</th>\n",
       "      <td>ee57070aa3b24a06fdd0e02efd2d757d</td>\n",
       "      <td>computers_accessories</td>\n",
       "      <td>5.618816</td>\n",
       "      <td>73.579600</td>\n",
       "    </tr>\n",
       "    <tr>\n",
       "      <th>0</th>\n",
       "      <td>3f14d740544f37ece8a9e7bc8349797e</td>\n",
       "      <td>computers_accessories</td>\n",
       "      <td>0.690087</td>\n",
       "      <td>84.956374</td>\n",
       "    </tr>\n",
       "  </tbody>\n",
       "</table>\n",
       "</div>"
      ],
      "text/plain": [
       "                         product_id  product_category_name     score  \\\n",
       "1  ee57070aa3b24a06fdd0e02efd2d757d  computers_accessories  5.618816   \n",
       "0  3f14d740544f37ece8a9e7bc8349797e  computers_accessories  0.690087   \n",
       "\n",
       "       price  \n",
       "1  73.579600  \n",
       "0  84.956374  "
      ]
     },
     "metadata": {},
     "output_type": "display_data"
    }
   ],
   "source": [
    "recco_2['score'] = recco_2['score'] * 2\n",
    "recco_1['score'] = recco_1['score'] * 2\n",
    "\n",
    "display(recco_1)\n",
    "display(recco_2)"
   ]
  },
  {
   "cell_type": "code",
   "execution_count": null,
   "metadata": {},
   "outputs": [],
   "source": []
  }
 ],
 "metadata": {
  "kernelspec": {
   "display_name": "Python 3.9.12 ('advanced')",
   "language": "python",
   "name": "python3"
  },
  "language_info": {
   "codemirror_mode": {
    "name": "ipython",
    "version": 3
   },
   "file_extension": ".py",
   "mimetype": "text/x-python",
   "name": "python",
   "nbconvert_exporter": "python",
   "pygments_lexer": "ipython3",
   "version": "3.9.12"
  },
  "orig_nbformat": 4,
  "vscode": {
   "interpreter": {
    "hash": "987e9dfeaf8d7b4c829123d011957fbba16576391d7d368ba4a045b7729615f6"
   }
  }
 },
 "nbformat": 4,
 "nbformat_minor": 2
}
